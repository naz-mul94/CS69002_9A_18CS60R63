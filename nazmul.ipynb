{
  "nbformat": 4,
  "nbformat_minor": 0,
  "metadata": {
    "colab": {
      "name": "Untitled1.ipynb",
      "version": "0.3.2",
      "provenance": [],
      "include_colab_link": true
    },
    "kernelspec": {
      "name": "python3",
      "display_name": "Python 3"
    },
    "accelerator": "GPU"
  },
  "cells": [
    {
      "cell_type": "markdown",
      "metadata": {
        "id": "view-in-github",
        "colab_type": "text"
      },
      "source": [
        "<a href=\"https://colab.research.google.com/github/naz-mul94/CS69002_9A_18CS60R63/blob/master/nazmul.ipynb\" target=\"_parent\"><img src=\"https://colab.research.google.com/assets/colab-badge.svg\" alt=\"Open In Colab\"/></a>"
      ]
    },
    {
      "metadata": {
        "id": "GvYHwzMigOg9",
        "colab_type": "text"
      },
      "cell_type": "markdown",
      "source": [
        "# Movie Review Sentiment Analysis"
      ]
    },
    {
      "metadata": {
        "id": "cXBznoq39tMB",
        "colab_type": "code",
        "colab": {}
      },
      "cell_type": "code",
      "source": [
        "import nltk"
      ],
      "execution_count": 0,
      "outputs": []
    },
    {
      "metadata": {
        "id": "XBZz3PAd9tqk",
        "colab_type": "code",
        "outputId": "4eb2bae6-34e6-42d2-b931-ab458672768b",
        "colab": {
          "base_uri": "https://localhost:8080/",
          "height": 69
        }
      },
      "cell_type": "code",
      "source": [
        "nltk.download('wordnet')"
      ],
      "execution_count": 7,
      "outputs": [
        {
          "output_type": "stream",
          "text": [
            "[nltk_data] Downloading package wordnet to /root/nltk_data...\n",
            "[nltk_data]   Package wordnet is already up-to-date!\n"
          ],
          "name": "stdout"
        },
        {
          "output_type": "execute_result",
          "data": {
            "text/plain": [
              "True"
            ]
          },
          "metadata": {
            "tags": []
          },
          "execution_count": 7
        }
      ]
    },
    {
      "metadata": {
        "id": "JH7F2xuN9t8c",
        "colab_type": "code",
        "outputId": "73d37012-4f14-49bd-9bed-24c9dbbdc6dc",
        "colab": {
          "base_uri": "https://localhost:8080/",
          "height": 69
        }
      },
      "cell_type": "code",
      "source": [
        "nltk.download('punkt')"
      ],
      "execution_count": 8,
      "outputs": [
        {
          "output_type": "stream",
          "text": [
            "[nltk_data] Downloading package punkt to /root/nltk_data...\n",
            "[nltk_data]   Package punkt is already up-to-date!\n"
          ],
          "name": "stdout"
        },
        {
          "output_type": "execute_result",
          "data": {
            "text/plain": [
              "True"
            ]
          },
          "metadata": {
            "tags": []
          },
          "execution_count": 8
        }
      ]
    },
    {
      "metadata": {
        "id": "q3_WmmGN-L5U",
        "colab_type": "code",
        "outputId": "7ca3639b-d98c-4d37-9d9b-d178097d47dc",
        "colab": {
          "base_uri": "https://localhost:8080/",
          "height": 69
        }
      },
      "cell_type": "code",
      "source": [
        "nltk.download('stopwords')"
      ],
      "execution_count": 9,
      "outputs": [
        {
          "output_type": "stream",
          "text": [
            "[nltk_data] Downloading package stopwords to /root/nltk_data...\n",
            "[nltk_data]   Package stopwords is already up-to-date!\n"
          ],
          "name": "stdout"
        },
        {
          "output_type": "execute_result",
          "data": {
            "text/plain": [
              "True"
            ]
          },
          "metadata": {
            "tags": []
          },
          "execution_count": 9
        }
      ]
    },
    {
      "metadata": {
        "id": "hJRJTkHYgbNm",
        "colab_type": "text"
      },
      "cell_type": "markdown",
      "source": [
        "## Import Header files"
      ]
    },
    {
      "metadata": {
        "id": "FhEievieSXKJ",
        "colab_type": "code",
        "colab": {}
      },
      "cell_type": "code",
      "source": [
        "import torch\n",
        "import pandas as pd\n",
        "import numpy as np\n",
        "from string import punctuation\n",
        "from nltk.stem import WordNetLemmatizer\n",
        "from nltk.corpus import stopwords\n",
        "\n",
        "lemmatizer = WordNetLemmatizer()"
      ],
      "execution_count": 0,
      "outputs": []
    },
    {
      "metadata": {
        "id": "BD18oPehUVrj",
        "colab_type": "code",
        "colab": {}
      },
      "cell_type": "code",
      "source": [
        "url = 'https://github.com/binny-mathew/IITKGP_CS69002_Spring_2019/blob/master/Dataset/check.csv'\n",
        "df1 = pd.read_csv(url, sep='\\t')"
      ],
      "execution_count": 0,
      "outputs": []
    },
    {
      "metadata": {
        "id": "M9-44Cqr-sqT",
        "colab_type": "code",
        "outputId": "1f2c7ba8-a21e-4321-c170-d0b0736b2576",
        "colab": {
          "resources": {
            "http://localhost:8080/nbextensions/google.colab/files.js": {
              "data": "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",
              "ok": true,
              "headers": [
                [
                  "content-type",
                  "application/javascript"
                ]
              ],
              "status": 200,
              "status_text": "OK"
            }
          },
          "base_uri": "https://localhost:8080/",
          "height": 121
        }
      },
      "cell_type": "code",
      "source": [
        "from google.colab import files\n",
        "uploaded = files.upload()"
      ],
      "execution_count": 11,
      "outputs": [
        {
          "output_type": "display_data",
          "data": {
            "text/html": [
              "\n",
              "     <input type=\"file\" id=\"files-5add0e9f-5c21-40ed-912b-e48115587678\" name=\"files[]\" multiple disabled />\n",
              "     <output id=\"result-5add0e9f-5c21-40ed-912b-e48115587678\">\n",
              "      Upload widget is only available when the cell has been executed in the\n",
              "      current browser session. Please rerun this cell to enable.\n",
              "      </output>\n",
              "      <script src=\"/nbextensions/google.colab/files.js\"></script> "
            ],
            "text/plain": [
              "<IPython.core.display.HTML object>"
            ]
          },
          "metadata": {
            "tags": []
          }
        },
        {
          "output_type": "stream",
          "text": [
            "Saving Train_20K.csv to Train_20K.csv\n",
            "Saving Test_5K.csv to Test_5K.csv\n"
          ],
          "name": "stdout"
        }
      ]
    },
    {
      "metadata": {
        "id": "WJgcxO1a_Bu5",
        "colab_type": "code",
        "colab": {}
      },
      "cell_type": "code",
      "source": [
        "import io\n",
        "df = pd.read_csv(open('Train_20K.csv', encoding='utf-8'), sep='\\t')\n",
        "df2 = pd.read_csv(open('Test_5K.csv', encoding='utf-8'), sep='\\t')\n",
        "#print (df2)"
      ],
      "execution_count": 0,
      "outputs": []
    },
    {
      "metadata": {
        "id": "cKrgvwdKFwfD",
        "colab_type": "code",
        "colab": {}
      },
      "cell_type": "code",
      "source": [
        "text_reviews_temp = df['text'].astype(str).tolist()\n",
        "\n",
        "text_labels = df['label'].astype(int)\n",
        "\n",
        "text_reviews = list()\n",
        "#i = 1\n",
        "sw = set(stopwords.words('english'))\n",
        "for text_review in text_reviews_temp:\n",
        " # print (text_review)\n",
        "  text_review = text_review.translate(str.maketrans('', '', punctuation))\n",
        "  tokens = text_review.lower().split()\n",
        "  #print (text_review)\n",
        "  #print (tokens)\n",
        "  #i=i+1\n",
        "  \n",
        "  \n",
        "  terms = set(lemmatizer.lemmatize(term) for term in tokens)\n",
        "  #print (terms)\n",
        "  temp = terms.difference(sw)\n",
        "  #print (temp)\n",
        "  text_reviews.append(\" \".join(temp))\n",
        "  #print (text_reviews)\n",
        "  #if i==2:\n",
        "   # break;"
      ],
      "execution_count": 0,
      "outputs": []
    },
    {
      "metadata": {
        "id": "WAdj0ezGF0gl",
        "colab_type": "code",
        "colab": {}
      },
      "cell_type": "code",
      "source": [
        "test_reviews_temp = df2['text'].astype(str).tolist()\n",
        "test_labels = df2['label'].astype(int)\n",
        "test_reviews = list()\n",
        "sw = set(stopwords.words('english'))\n",
        "for test_review in test_reviews_temp:\n",
        "  test_review = test_review.translate(str.maketrans('', '', punctuation))\n",
        "  tokens = test_review.lower().split()\n",
        "  terms = set(lemmatizer.lemmatize(term) for term in tokens)\n",
        "  temp = terms.difference(sw)\n",
        "  test_reviews.append(\" \".join(temp))\n",
        "  "
      ],
      "execution_count": 0,
      "outputs": []
    },
    {
      "metadata": {
        "id": "QQz8BMQwHcdy",
        "colab_type": "code",
        "colab": {}
      },
      "cell_type": "code",
      "source": [
        "def generate_word_ids(dataset):\n",
        "  word_to_ix = {}\n",
        "  count = {}\n",
        "  #i=1\n",
        "  for sent,_ in dataset:\n",
        "      #if i==1:\n",
        "       # i=i+1\n",
        "        #print (sent)\n",
        "      for word in sent.split():\n",
        "          if word not in count:\n",
        "            count[word] = 1\n",
        "          else:\n",
        "            count[word] = count[word] + 1\n",
        "            if word not in word_to_ix:\n",
        "              if count[word] >= 6:\n",
        "                word_to_ix[word] = len(word_to_ix)\n",
        "                \n",
        "  return word_to_ix"
      ],
      "execution_count": 0,
      "outputs": []
    },
    {
      "metadata": {
        "id": "yw1Ro3_oHgY2",
        "colab_type": "code",
        "colab": {}
      },
      "cell_type": "code",
      "source": [
        "\n",
        "data = tuple(zip(text_reviews,text_labels))\n",
        "\n",
        "test_data = tuple(zip(test_reviews,test_labels))"
      ],
      "execution_count": 0,
      "outputs": []
    },
    {
      "metadata": {
        "id": "BHFQhC5yHqeD",
        "colab_type": "code",
        "outputId": "a032f094-70d7-4289-c540-2d75500bce1a",
        "colab": {
          "base_uri": "https://localhost:8080/",
          "height": 34
        }
      },
      "cell_type": "code",
      "source": [
        "word_to_ix = generate_word_ids(data+test_data)\n",
        "\n",
        "VOCAB_SIZE = len(word_to_ix)\n",
        "NUM_LABELS = 2\n",
        "print(VOCAB_SIZE)"
      ],
      "execution_count": 17,
      "outputs": [
        {
          "output_type": "stream",
          "text": [
            "22887\n"
          ],
          "name": "stdout"
        }
      ]
    },
    {
      "metadata": {
        "id": "Z0PiLGtWQeSt",
        "colab_type": "text"
      },
      "cell_type": "markdown",
      "source": [
        "#TASK1"
      ]
    },
    {
      "metadata": {
        "id": "8dE4gEe--uqy",
        "colab_type": "text"
      },
      "cell_type": "markdown",
      "source": [
        "## Intro to PyTorch"
      ]
    },
    {
      "metadata": {
        "id": "ShtFBLsF-ts1",
        "colab_type": "code",
        "colab": {}
      },
      "cell_type": "code",
      "source": [
        "import torch.nn as nn\n",
        "import torch.nn.functional as F\n",
        "from torch.autograd import Variable\n",
        "\n",
        "SEED = 42\n",
        "\n",
        "torch.manual_seed(SEED)\n",
        "torch.cuda.manual_seed(SEED)"
      ],
      "execution_count": 0,
      "outputs": []
    },
    {
      "metadata": {
        "id": "bI_h0ltKCf6c",
        "colab_type": "text"
      },
      "cell_type": "markdown",
      "source": [
        "**BE VERY CAREFUL WITH THE DIMENSIONS**"
      ]
    },
    {
      "metadata": {
        "id": "4KnJSJrwCtXV",
        "colab_type": "text"
      },
      "cell_type": "markdown",
      "source": [
        "## Model Definition for the BOWClassifier"
      ]
    },
    {
      "metadata": {
        "id": "7kVLsLD6JQtj",
        "colab_type": "code",
        "colab": {}
      },
      "cell_type": "code",
      "source": [
        "def make_bow_vector(sentence, word_to_ix):\n",
        "    # create a vector of zeros of vocab size = len(word_to_idx)\n",
        "    vec = torch.zeros(len(word_to_ix))\n",
        "    for word in sentence.split():\n",
        "        if word in word_to_ix:\n",
        "            vec[word_to_ix[word]]+=1\n",
        "    return vec.view(1, -1)\n",
        "\n",
        "def make_target(label):\n",
        "    return torch.LongTensor([label]).cuda()\n"
      ],
      "execution_count": 0,
      "outputs": []
    },
    {
      "metadata": {
        "id": "I0ETlEhfsum6",
        "colab_type": "text"
      },
      "cell_type": "markdown",
      "source": [
        "#TASK1A"
      ]
    },
    {
      "metadata": {
        "id": "KuAprSuZKKYK",
        "colab_type": "code",
        "colab": {}
      },
      "cell_type": "code",
      "source": [
        "class Task1A(nn.Module):\n",
        "  def __init__(self, num_labels, vocab_size):\n",
        "    super(Task1A, self).__init__()\n",
        "    self.lin = nn.Linear(vocab_size, 50)\n",
        "    self.lin1 = nn.Linear(50, num_labels)\n",
        "    \n",
        "  def forward(self, x):\n",
        "    return F.softmax(self.lin1(self.lin(x)))"
      ],
      "execution_count": 0,
      "outputs": []
    },
    {
      "metadata": {
        "id": "wK61RhS_JotP",
        "colab_type": "code",
        "colab": {}
      },
      "cell_type": "code",
      "source": [
        "Task_1A = Task1A(NUM_LABELS, VOCAB_SIZE).cuda()"
      ],
      "execution_count": 0,
      "outputs": []
    },
    {
      "metadata": {
        "id": "Vtq1aqwGbCWM",
        "colab_type": "code",
        "colab": {}
      },
      "cell_type": "code",
      "source": [
        "# define a loss function and an optimizer\n",
        "loss_functionTask1A = nn.NLLLoss()\n",
        "optTask1A = torch.optim.SGD(Task_1A.parameters(), lr = 0.001)"
      ],
      "execution_count": 0,
      "outputs": []
    },
    {
      "metadata": {
        "id": "sbDfk9MHoTq-",
        "colab_type": "code",
        "colab": {
          "base_uri": "https://localhost:8080/",
          "height": 263
        },
        "outputId": "c32119af-cb5a-4c45-c544-fcec7c5e6685"
      },
      "cell_type": "code",
      "source": [
        "# Task1A\n",
        "# the training loop\n",
        "for epoch in range(3):\n",
        "    print(epoch)\n",
        "    for instance, label in data:\n",
        "        # get the training data\n",
        "        Task_1A.zero_grad()\n",
        "        bow_vec = Variable(make_bow_vector(instance, word_to_ix)).cuda()\n",
        "        label = Variable(make_target(label))\n",
        "        probs = Task_1A(bow_vec) # forward pass\n",
        "        loss = loss_functionTask1A(probs, label)\n",
        "        loss.backward()\n",
        "        optTask1A.step()\n",
        "    print('CURRENT LOSS: {}'.format(loss.data))\n",
        "    \n",
        "from sklearn.metrics import precision_score\n",
        "from sklearn.metrics import recall_score\n",
        "from sklearn.metrics import f1_score\n",
        "from sklearn.metrics import accuracy_score\n",
        "\n",
        "print('--- AFTER TRAINING ---')\n",
        "predictions = list()\n",
        "for instance, label in test_data:\n",
        "    bow_vec = Variable(make_bow_vector(instance, word_to_ix))\n",
        "    logprobs = Task_1A(bow_vec.cuda())\n",
        "    pred = np.argmax(logprobs.data.cpu().numpy())\n",
        "    predictions.append(pred)\n",
        "    \n",
        "print('Precision: {}'.format(precision_score(test_labels,predictions)))\n",
        "print('Recall: {}'.format(recall_score(test_labels,predictions)))\n",
        "print('f1-score: {}'.format(f1_score(test_labels,predictions)))\n",
        "print('Accuracy: {}'.format(accuracy_score(test_labels,predictions)))"
      ],
      "execution_count": 23,
      "outputs": [
        {
          "output_type": "stream",
          "text": [
            "0\n"
          ],
          "name": "stdout"
        },
        {
          "output_type": "stream",
          "text": [
            "/usr/local/lib/python3.6/dist-packages/ipykernel_launcher.py:8: UserWarning: Implicit dimension choice for softmax has been deprecated. Change the call to include dim=X as an argument.\n",
            "  \n"
          ],
          "name": "stderr"
        },
        {
          "output_type": "stream",
          "text": [
            "CURRENT LOSS: -0.7787696123123169\n",
            "1\n",
            "CURRENT LOSS: -0.9385720491409302\n",
            "2\n",
            "CURRENT LOSS: -0.9744940996170044\n",
            "--- AFTER TRAINING ---\n",
            "Precision: 0.8405742349829997\n",
            "Recall: 0.8836378077839555\n",
            "f1-score: 0.8615682478218781\n",
            "Accuracy: 0.857\n"
          ],
          "name": "stdout"
        }
      ]
    },
    {
      "metadata": {
        "id": "LUAx6baDNgld",
        "colab_type": "code",
        "outputId": "aad29e25-6988-47d6-f3e5-5efd161f474e",
        "colab": {
          "base_uri": "https://localhost:8080/",
          "height": 72
        }
      },
      "cell_type": "code",
      "source": [
        "torch.save(Task_1A,'Task1A.mdl')\n",
        "\n",
        "from google.colab import files\n",
        "files.download(\"Task1A.mdl\")"
      ],
      "execution_count": 24,
      "outputs": [
        {
          "output_type": "stream",
          "text": [
            "/usr/local/lib/python3.6/dist-packages/torch/serialization.py:251: UserWarning: Couldn't retrieve source code for container of type Task1A. It won't be checked for correctness upon loading.\n",
            "  \"type \" + obj.__name__ + \". It won't be checked \"\n"
          ],
          "name": "stderr"
        }
      ]
    },
    {
      "metadata": {
        "id": "wgbpNK4EuXeb",
        "colab_type": "text"
      },
      "cell_type": "markdown",
      "source": [
        "#TASK1B"
      ]
    },
    {
      "metadata": {
        "id": "-tuX9Z-tKhGs",
        "colab_type": "code",
        "colab": {}
      },
      "cell_type": "code",
      "source": [
        "class Task1B(nn.Module):\n",
        "  def __init__(self, num_labels, vocab_size):\n",
        "    super(Task1B, self).__init__()\n",
        "    self.lin = nn.Linear(vocab_size, 100)\n",
        "    self.lin1 = nn.Linear(100, num_labels)\n",
        "    \n",
        "  def forward(self, x):\n",
        "    return F.softmax(self.lin1(self.lin(x)))"
      ],
      "execution_count": 0,
      "outputs": []
    },
    {
      "metadata": {
        "id": "BudPCjdrudTR",
        "colab_type": "code",
        "colab": {}
      },
      "cell_type": "code",
      "source": [
        "Task_1B = Task1B(NUM_LABELS, VOCAB_SIZE).cuda()"
      ],
      "execution_count": 0,
      "outputs": []
    },
    {
      "metadata": {
        "id": "wjvjbDwZudXw",
        "colab_type": "code",
        "colab": {}
      },
      "cell_type": "code",
      "source": [
        "# define a loss function and an optimizer\n",
        "loss_functionTask1B = nn.NLLLoss()\n",
        "optTask1B = torch.optim.SGD(Task_1B.parameters(), lr = 0.001)"
      ],
      "execution_count": 0,
      "outputs": []
    },
    {
      "metadata": {
        "id": "G4_OMpkDJuDM",
        "colab_type": "code",
        "outputId": "719406cd-dabf-4914-af11-ea92f6e1842f",
        "colab": {
          "base_uri": "https://localhost:8080/",
          "height": 263
        }
      },
      "cell_type": "code",
      "source": [
        "# Task1B\n",
        "# the training loop\n",
        "for epoch in range(3):\n",
        "    print(epoch)\n",
        "    for instance, label in data:\n",
        "        # get the training data\n",
        "        Task_1B.zero_grad()\n",
        "        bow_vec = Variable(make_bow_vector(instance, word_to_ix)).cuda()\n",
        "        label = Variable(make_target(label))\n",
        "        probs = Task_1B(bow_vec) # forward pass\n",
        "        loss = loss_functionTask1B(probs, label)\n",
        "        loss.backward()\n",
        "        optTask1B.step()\n",
        "    print('CURRENT LOSS: {}'.format(loss.data))\n",
        "    \n",
        "from sklearn.metrics import precision_score\n",
        "from sklearn.metrics import recall_score\n",
        "from sklearn.metrics import f1_score\n",
        "from sklearn.metrics import accuracy_score\n",
        "\n",
        "print('--- AFTER TRAINING ---')\n",
        "predictions = list()\n",
        "for instance, label in test_data:\n",
        "    bow_vec = Variable(make_bow_vector(instance, word_to_ix))\n",
        "    logprobs = Task_1B(bow_vec.cuda())\n",
        "    pred = np.argmax(logprobs.data.cpu().numpy())\n",
        "    predictions.append(pred)\n",
        "    \n",
        "print('Precision: {}'.format(precision_score(test_labels,predictions)))\n",
        "print('Recall: {}'.format(recall_score(test_labels,predictions)))\n",
        "print('f1-score: {}'.format(f1_score(test_labels,predictions)))\n",
        "print('Accuracy: {}'.format(accuracy_score(test_labels,predictions)))"
      ],
      "execution_count": 0,
      "outputs": [
        {
          "output_type": "stream",
          "text": [
            "0\n"
          ],
          "name": "stdout"
        },
        {
          "output_type": "stream",
          "text": [
            "/usr/local/lib/python3.6/dist-packages/ipykernel_launcher.py:8: UserWarning: Implicit dimension choice for softmax has been deprecated. Change the call to include dim=X as an argument.\n",
            "  \n"
          ],
          "name": "stderr"
        },
        {
          "output_type": "stream",
          "text": [
            "CURRENT LOSS: -0.8110874891281128\n",
            "1\n",
            "CURRENT LOSS: -0.9488620758056641\n",
            "2\n",
            "CURRENT LOSS: -0.9782378673553467\n",
            "--- AFTER TRAINING ---\n",
            "Precision: 0.8456860509312049\n",
            "Recall: 0.8836378077839555\n",
            "f1-score: 0.8642454845601089\n",
            "Accuracy: 0.8602\n"
          ],
          "name": "stdout"
        }
      ]
    },
    {
      "metadata": {
        "id": "j-PI2839plo3",
        "colab_type": "code",
        "outputId": "b9c79f75-c26c-40f4-9638-f993494ba6a5",
        "colab": {
          "base_uri": "https://localhost:8080/",
          "height": 72
        }
      },
      "cell_type": "code",
      "source": [
        "torch.save(Task_1B,'Task1B.mdl')\n",
        "\n",
        "from google.colab import files\n",
        "files.download(\"Task1B.mdl\")"
      ],
      "execution_count": 0,
      "outputs": [
        {
          "output_type": "stream",
          "text": [
            "/usr/local/lib/python3.6/dist-packages/torch/serialization.py:251: UserWarning: Couldn't retrieve source code for container of type Task1B. It won't be checked for correctness upon loading.\n",
            "  \"type \" + obj.__name__ + \". It won't be checked \"\n"
          ],
          "name": "stderr"
        }
      ]
    },
    {
      "metadata": {
        "id": "khwS-Dwcrs5j",
        "colab_type": "text"
      },
      "cell_type": "markdown",
      "source": [
        "#TASK1C"
      ]
    },
    {
      "metadata": {
        "id": "J0jz8Lc6KhXn",
        "colab_type": "code",
        "colab": {}
      },
      "cell_type": "code",
      "source": [
        "class Task1C(nn.Module):\n",
        "  def __init__(self, num_labels, vocab_size):\n",
        "    super(Task1C, self).__init__()\n",
        "    self.lin = nn.Linear(vocab_size, 200)\n",
        "    self.lin1 = nn.Linear(200, num_labels)\n",
        "    \n",
        "  def forward(self, x):\n",
        "    return F.softmax(self.lin1(self.lin(x)))"
      ],
      "execution_count": 0,
      "outputs": []
    },
    {
      "metadata": {
        "id": "eUUc0uywrO_-",
        "colab_type": "code",
        "colab": {}
      },
      "cell_type": "code",
      "source": [
        "Task_1C = Task1C(NUM_LABELS, VOCAB_SIZE).cuda()"
      ],
      "execution_count": 0,
      "outputs": []
    },
    {
      "metadata": {
        "id": "-lLxVVj6sHNT",
        "colab_type": "code",
        "colab": {}
      },
      "cell_type": "code",
      "source": [
        "# define a loss function and an optimizer\n",
        "loss_functionTask1C = nn.NLLLoss()\n",
        "optTask1C = torch.optim.SGD(Task_1C.parameters(), lr = 0.005)"
      ],
      "execution_count": 0,
      "outputs": []
    },
    {
      "metadata": {
        "id": "bC2Z4m3trQjl",
        "colab_type": "code",
        "outputId": "58d67de0-03a0-4459-9187-b67346e084be",
        "colab": {
          "base_uri": "https://localhost:8080/",
          "height": 263
        }
      },
      "cell_type": "code",
      "source": [
        "# Task1C\n",
        "# the training loop\n",
        "for epoch in range(3):\n",
        "    print(epoch)\n",
        "    for instance, label in data:\n",
        "        # get the training data\n",
        "        Task_1C.zero_grad()\n",
        "        bow_vec = Variable(make_bow_vector(instance, word_to_ix)).cuda()\n",
        "        label = Variable(make_target(label))\n",
        "        probs = Task_1C(bow_vec) # forward pass\n",
        "        loss = loss_functionTask1C(probs, label)\n",
        "        loss.backward()\n",
        "        optTask1C.step()\n",
        "    print('CURRENT LOSS: {}'.format(loss.data))\n",
        "    \n",
        "from sklearn.metrics import precision_score\n",
        "from sklearn.metrics import recall_score\n",
        "from sklearn.metrics import f1_score\n",
        "from sklearn.metrics import accuracy_score\n",
        "\n",
        "print('--- AFTER TRAINING ---')\n",
        "predictions = list()\n",
        "for instance, label in test_data:\n",
        "    bow_vec = Variable(make_bow_vector(instance, word_to_ix))\n",
        "    logprobs = Task_1C(bow_vec.cuda())\n",
        "    pred = np.argmax(logprobs.data.cpu().numpy())\n",
        "    predictions.append(pred)\n",
        "    \n",
        "print('Precision: {}'.format(precision_score(test_labels,predictions)))\n",
        "print('Recall: {}'.format(recall_score(test_labels,predictions)))\n",
        "print('f1-score: {}'.format(f1_score(test_labels,predictions)))\n",
        "print('Accuracy: {}'.format(accuracy_score(test_labels,predictions)))"
      ],
      "execution_count": 0,
      "outputs": [
        {
          "output_type": "stream",
          "text": [
            "0\n"
          ],
          "name": "stdout"
        },
        {
          "output_type": "stream",
          "text": [
            "/usr/local/lib/python3.6/dist-packages/ipykernel_launcher.py:8: UserWarning: Implicit dimension choice for softmax has been deprecated. Change the call to include dim=X as an argument.\n",
            "  \n"
          ],
          "name": "stderr"
        },
        {
          "output_type": "stream",
          "text": [
            "CURRENT LOSS: -0.9914299845695496\n",
            "1\n",
            "CURRENT LOSS: -0.9968959093093872\n",
            "2\n",
            "CURRENT LOSS: -0.9987044334411621\n",
            "--- AFTER TRAINING ---\n",
            "Precision: 0.8769539078156313\n",
            "Recall: 0.868943606036537\n",
            "f1-score: 0.8729303810093758\n",
            "Accuracy: 0.8726\n"
          ],
          "name": "stdout"
        }
      ]
    },
    {
      "metadata": {
        "id": "PfgOY4iprjlR",
        "colab_type": "code",
        "outputId": "c29920f0-a1c7-44e4-e17e-7b87c8890eba",
        "colab": {
          "base_uri": "https://localhost:8080/",
          "height": 72
        }
      },
      "cell_type": "code",
      "source": [
        "torch.save(Task_1C,'Task1C.mdl')\n",
        "\n",
        "from google.colab import files\n",
        "files.download(\"Task1C.mdl\")"
      ],
      "execution_count": 0,
      "outputs": [
        {
          "output_type": "stream",
          "text": [
            "/usr/local/lib/python3.6/dist-packages/torch/serialization.py:251: UserWarning: Couldn't retrieve source code for container of type Task1C. It won't be checked for correctness upon loading.\n",
            "  \"type \" + obj.__name__ + \". It won't be checked \"\n"
          ],
          "name": "stderr"
        }
      ]
    },
    {
      "metadata": {
        "id": "a7r84OwGtQfE",
        "colab_type": "text"
      },
      "cell_type": "markdown",
      "source": [
        "#TASK1D"
      ]
    },
    {
      "metadata": {
        "id": "gJikqKZ0Khj0",
        "colab_type": "code",
        "colab": {}
      },
      "cell_type": "code",
      "source": [
        "class Task1D(nn.Module):\n",
        "  def __init__(self, num_labels, vocab_size):\n",
        "    super(Task1D, self).__init__()\n",
        "    self.lin = nn.Linear(vocab_size, 500)\n",
        "    self.lin1 = nn.Linear(500, num_labels)\n",
        "    \n",
        "  def forward(self, x):\n",
        "    return F.softmax(self.lin1(self.lin(x)))"
      ],
      "execution_count": 0,
      "outputs": []
    },
    {
      "metadata": {
        "id": "y2GtMgUUtdjL",
        "colab_type": "code",
        "colab": {}
      },
      "cell_type": "code",
      "source": [
        "Task_1D = Task1D(NUM_LABELS, VOCAB_SIZE).cuda()"
      ],
      "execution_count": 0,
      "outputs": []
    },
    {
      "metadata": {
        "id": "j92a4ODPtnX-",
        "colab_type": "code",
        "colab": {}
      },
      "cell_type": "code",
      "source": [
        "# define a loss function and an optimizer\n",
        "loss_functionTask1D = nn.NLLLoss()\n",
        "optTask1D = torch.optim.SGD(Task_1D.parameters(), lr = 0.005)"
      ],
      "execution_count": 0,
      "outputs": []
    },
    {
      "metadata": {
        "id": "RuVtPrIJtyQi",
        "colab_type": "code",
        "outputId": "b24a447d-71d3-4241-887a-4db31fcb4ad9",
        "colab": {
          "base_uri": "https://localhost:8080/",
          "height": 263
        }
      },
      "cell_type": "code",
      "source": [
        "# Task1D\n",
        "# the training loop\n",
        "for epoch in range(3):\n",
        "    print(epoch)\n",
        "    for instance, label in data:\n",
        "        # get the training data\n",
        "        Task_1D.zero_grad()\n",
        "        bow_vec = Variable(make_bow_vector(instance, word_to_ix)).cuda()\n",
        "        label = Variable(make_target(label))\n",
        "        probs = Task_1D(bow_vec) # forward pass\n",
        "        loss = loss_functionTask1D(probs, label)\n",
        "        loss.backward()\n",
        "        optTask1D.step()\n",
        "    print('CURRENT LOSS: {}'.format(loss.data))\n",
        "    \n",
        "from sklearn.metrics import precision_score\n",
        "from sklearn.metrics import recall_score\n",
        "from sklearn.metrics import f1_score\n",
        "from sklearn.metrics import accuracy_score\n",
        "\n",
        "print('--- AFTER TRAINING ---')\n",
        "predictions = list()\n",
        "for instance, label in test_data:\n",
        "    bow_vec = Variable(make_bow_vector(instance, word_to_ix))\n",
        "    logprobs = Task_1D(bow_vec.cuda())\n",
        "    pred = np.argmax(logprobs.data.cpu().numpy())\n",
        "    predictions.append(pred)\n",
        "    \n",
        "print('Precision: {}'.format(precision_score(test_labels,predictions)))\n",
        "print('Recall: {}'.format(recall_score(test_labels,predictions)))\n",
        "print('f1-score: {}'.format(f1_score(test_labels,predictions)))\n",
        "print('Accuracy: {}'.format(accuracy_score(test_labels,predictions)))"
      ],
      "execution_count": 0,
      "outputs": [
        {
          "output_type": "stream",
          "text": [
            "0\n"
          ],
          "name": "stdout"
        },
        {
          "output_type": "stream",
          "text": [
            "/usr/local/lib/python3.6/dist-packages/ipykernel_launcher.py:8: UserWarning: Implicit dimension choice for softmax has been deprecated. Change the call to include dim=X as an argument.\n",
            "  \n"
          ],
          "name": "stderr"
        },
        {
          "output_type": "stream",
          "text": [
            "CURRENT LOSS: -0.9925312399864197\n",
            "1\n",
            "CURRENT LOSS: -0.9975941777229309\n",
            "2\n",
            "CURRENT LOSS: -0.9988064765930176\n",
            "--- AFTER TRAINING ---\n",
            "Precision: 0.8756497401039585\n",
            "Recall: 0.8697378872120731\n",
            "f1-score: 0.8726838015540945\n",
            "Accuracy: 0.8722\n"
          ],
          "name": "stdout"
        }
      ]
    },
    {
      "metadata": {
        "id": "whv_0x3FuKwe",
        "colab_type": "code",
        "outputId": "e6ed64c6-a39c-42cb-dcc7-7651af13b7b5",
        "colab": {
          "base_uri": "https://localhost:8080/",
          "height": 72
        }
      },
      "cell_type": "code",
      "source": [
        "torch.save(Task_1D,'Task1D.mdl')\n",
        "\n",
        "from google.colab import files\n",
        "files.download(\"Task1D.mdl\")"
      ],
      "execution_count": 0,
      "outputs": [
        {
          "output_type": "stream",
          "text": [
            "/usr/local/lib/python3.6/dist-packages/torch/serialization.py:251: UserWarning: Couldn't retrieve source code for container of type Task1D. It won't be checked for correctness upon loading.\n",
            "  \"type \" + obj.__name__ + \". It won't be checked \"\n"
          ],
          "name": "stderr"
        }
      ]
    },
    {
      "metadata": {
        "id": "EDfKwPTzvM4o",
        "colab_type": "text"
      },
      "cell_type": "markdown",
      "source": [
        "#TASK2A"
      ]
    },
    {
      "metadata": {
        "id": "QdngbSwUKsMc",
        "colab_type": "code",
        "colab": {}
      },
      "cell_type": "code",
      "source": [
        "class Task2A(nn.Module):\n",
        "  def __init__(self, num_labels, vocab_size):\n",
        "    super(Task2A, self).__init__()\n",
        "    self.lin = nn.Linear(vocab_size, 10)\n",
        "    self.lin1 = nn.Linear(10, 10)\n",
        "    self.lin2 = nn.Linear(10, num_labels)\n",
        "    \n",
        "  def forward(self, x):\n",
        "    return F.softmax(self.lin2(self.lin1(self.lin(x))))"
      ],
      "execution_count": 0,
      "outputs": []
    },
    {
      "metadata": {
        "id": "bYlW0gVJx_R1",
        "colab_type": "code",
        "colab": {}
      },
      "cell_type": "code",
      "source": [
        "Task_2A = Task2A(NUM_LABELS, VOCAB_SIZE).cuda()"
      ],
      "execution_count": 0,
      "outputs": []
    },
    {
      "metadata": {
        "id": "Hrezgnohx_X7",
        "colab_type": "code",
        "colab": {}
      },
      "cell_type": "code",
      "source": [
        "# define a loss function and an optimizer\n",
        "loss_functionTask2A = nn.NLLLoss()\n",
        "optTask2A = torch.optim.SGD(Task_2A.parameters(), lr = 0.006)"
      ],
      "execution_count": 0,
      "outputs": []
    },
    {
      "metadata": {
        "id": "OjALCwXwx_eZ",
        "colab_type": "code",
        "outputId": "265f010f-586c-490a-ac66-596df2fe3edb",
        "colab": {
          "base_uri": "https://localhost:8080/",
          "height": 298
        }
      },
      "cell_type": "code",
      "source": [
        " #Task2A\n",
        "# the training loop\n",
        "for epoch in range(4):\n",
        "    print(epoch)\n",
        "    for instance, label in data:\n",
        "        # get the training data\n",
        "        Task_2A.zero_grad()\n",
        "        bow_vec = Variable(make_bow_vector(instance, word_to_ix)).cuda()\n",
        "        label = Variable(make_target(label))\n",
        "        probs = Task_2A(bow_vec) # forward pass\n",
        "        loss = loss_functionTask2A(probs, label)\n",
        "        loss.backward()\n",
        "        optTask2A.step()\n",
        "    print('CURRENT LOSS: {}'.format(loss.data))\n",
        "    \n",
        "from sklearn.metrics import precision_score\n",
        "from sklearn.metrics import recall_score\n",
        "from sklearn.metrics import f1_score\n",
        "from sklearn.metrics import accuracy_score\n",
        "\n",
        "print('--- AFTER TRAINING ---')\n",
        "predictions = list()\n",
        "for instance, label in test_data:\n",
        "    bow_vec = Variable(make_bow_vector(instance, word_to_ix))\n",
        "    logprobs = Task_2A(bow_vec.cuda())\n",
        "    pred = np.argmax(logprobs.data.cpu().numpy())\n",
        "    predictions.append(pred)\n",
        "    \n",
        "print('Precision: {}'.format(precision_score(test_labels,predictions)))\n",
        "print('Recall: {}'.format(recall_score(test_labels,predictions)))\n",
        "print('f1-score: {}'.format(f1_score(test_labels,predictions)))\n",
        "print('Accuracy: {}'.format(accuracy_score(test_labels,predictions)))\n",
        "\n"
      ],
      "execution_count": 0,
      "outputs": [
        {
          "output_type": "stream",
          "text": [
            "0\n"
          ],
          "name": "stdout"
        },
        {
          "output_type": "stream",
          "text": [
            "/usr/local/lib/python3.6/dist-packages/ipykernel_launcher.py:9: UserWarning: Implicit dimension choice for softmax has been deprecated. Change the call to include dim=X as an argument.\n",
            "  if __name__ == '__main__':\n"
          ],
          "name": "stderr"
        },
        {
          "output_type": "stream",
          "text": [
            "CURRENT LOSS: -0.9999973773956299\n",
            "1\n",
            "CURRENT LOSS: -0.9999998807907104\n",
            "2\n",
            "CURRENT LOSS: -0.9999998807907104\n",
            "3\n",
            "CURRENT LOSS: -1.0\n",
            "--- AFTER TRAINING ---\n",
            "Precision: 0.8631743549648163\n",
            "Recall: 0.8768864177918984\n",
            "f1-score: 0.8699763593380615\n",
            "Accuracy: 0.868\n"
          ],
          "name": "stdout"
        }
      ]
    },
    {
      "metadata": {
        "id": "py4Kbo-qx_m9",
        "colab_type": "code",
        "outputId": "cd4561e2-1da5-469e-ce19-e64ad863acc0",
        "colab": {
          "base_uri": "https://localhost:8080/",
          "height": 72
        }
      },
      "cell_type": "code",
      "source": [
        "torch.save(Task_2A,\"Task2A.mdl\")\n",
        "from google.colab import files\n",
        "files.download(\"Task2A.mdl\")"
      ],
      "execution_count": 0,
      "outputs": [
        {
          "output_type": "stream",
          "text": [
            "/usr/local/lib/python3.6/dist-packages/torch/serialization.py:251: UserWarning: Couldn't retrieve source code for container of type Task2A. It won't be checked for correctness upon loading.\n",
            "  \"type \" + obj.__name__ + \". It won't be checked \"\n"
          ],
          "name": "stderr"
        }
      ]
    },
    {
      "metadata": {
        "id": "9dUylOwG2a3d",
        "colab_type": "text"
      },
      "cell_type": "markdown",
      "source": [
        "#Task2B"
      ]
    },
    {
      "metadata": {
        "id": "jSZUq8oxKsWH",
        "colab_type": "code",
        "colab": {}
      },
      "cell_type": "code",
      "source": [
        "class Task2B(nn.Module):\n",
        "  def __init__(self, num_labels, vocab_size):\n",
        "    super(Task2B, self).__init__()\n",
        "    self.lin = nn.Linear(vocab_size, 20)\n",
        "    self.lin1 = nn.Linear(20, 10)\n",
        "    self.lin2 = nn.Linear(10, num_labels)\n",
        "    \n",
        "  def forward(self, x):\n",
        "    return F.softmax(self.lin2(self.lin1(self.lin(x))))"
      ],
      "execution_count": 0,
      "outputs": []
    },
    {
      "metadata": {
        "id": "erC5uM1l2raR",
        "colab_type": "code",
        "colab": {}
      },
      "cell_type": "code",
      "source": [
        "Task_2B = Task2B(NUM_LABELS, VOCAB_SIZE).cuda()"
      ],
      "execution_count": 0,
      "outputs": []
    },
    {
      "metadata": {
        "id": "mowuXixt2rif",
        "colab_type": "code",
        "colab": {}
      },
      "cell_type": "code",
      "source": [
        "# define a loss function and an optimizer\n",
        "loss_functionTask2B = nn.NLLLoss()\n",
        "optTask2B = torch.optim.SGD(Task_2B.parameters(), lr = 0.006)"
      ],
      "execution_count": 0,
      "outputs": []
    },
    {
      "metadata": {
        "id": "TVD5Ykyw2r1-",
        "colab_type": "code",
        "outputId": "76ef410c-473c-4e45-bc30-01227f630a62",
        "colab": {
          "base_uri": "https://localhost:8080/",
          "height": 298
        }
      },
      "cell_type": "code",
      "source": [
        " #Task2B\n",
        "# the training loop\n",
        "for epoch in range(4):\n",
        "    print(epoch)\n",
        "    for instance, label in data:\n",
        "        # get the training data\n",
        "        Task_2B.zero_grad()\n",
        "        bow_vec = Variable(make_bow_vector(instance, word_to_ix)).cuda()\n",
        "        label = Variable(make_target(label))\n",
        "        probs = Task_2B(bow_vec) # forward pass\n",
        "        loss = loss_functionTask2B(probs, label)\n",
        "        loss.backward()\n",
        "        optTask2B.step()\n",
        "    print('CURRENT LOSS: {}'.format(loss.data))\n",
        "    \n",
        "from sklearn.metrics import precision_score\n",
        "from sklearn.metrics import recall_score\n",
        "from sklearn.metrics import f1_score\n",
        "from sklearn.metrics import accuracy_score\n",
        "\n",
        "print('--- AFTER TRAINING ---')\n",
        "predictions = list()\n",
        "for instance, label in test_data:\n",
        "    bow_vec = Variable(make_bow_vector(instance, word_to_ix))\n",
        "    logprobs = Task_2B(bow_vec.cuda())\n",
        "    pred = np.argmax(logprobs.data.cpu().numpy())\n",
        "    predictions.append(pred)\n",
        "    \n",
        "print('Precision: {}'.format(precision_score(test_labels,predictions)))\n",
        "print('Recall: {}'.format(recall_score(test_labels,predictions)))\n",
        "print('f1-score: {}'.format(f1_score(test_labels,predictions)))\n",
        "print('Accuracy: {}'.format(accuracy_score(test_labels,predictions)))\n",
        "\n"
      ],
      "execution_count": 0,
      "outputs": [
        {
          "output_type": "stream",
          "text": [
            "0\n"
          ],
          "name": "stdout"
        },
        {
          "output_type": "stream",
          "text": [
            "/usr/local/lib/python3.6/dist-packages/ipykernel_launcher.py:9: UserWarning: Implicit dimension choice for softmax has been deprecated. Change the call to include dim=X as an argument.\n",
            "  if __name__ == '__main__':\n"
          ],
          "name": "stderr"
        },
        {
          "output_type": "stream",
          "text": [
            "CURRENT LOSS: -0.9998061060905457\n",
            "1\n",
            "CURRENT LOSS: -0.9999988079071045\n",
            "2\n",
            "CURRENT LOSS: -0.9982149600982666\n",
            "3\n",
            "CURRENT LOSS: -0.9999984502792358\n",
            "--- AFTER TRAINING ---\n",
            "Precision: 0.8704807310290028\n",
            "Recall: 0.8701350277998412\n",
            "f1-score: 0.8703078450844092\n",
            "Accuracy: 0.8694\n"
          ],
          "name": "stdout"
        }
      ]
    },
    {
      "metadata": {
        "id": "pqexdgYD2sTR",
        "colab_type": "code",
        "outputId": "3579cf0d-455b-4eb8-c2b4-081ee2de599a",
        "colab": {
          "base_uri": "https://localhost:8080/",
          "height": 72
        }
      },
      "cell_type": "code",
      "source": [
        "torch.save(Task_2B,\"Task2B.mdl\")\n",
        "from google.colab import files\n",
        "files.download(\"Task2B.mdl\")"
      ],
      "execution_count": 0,
      "outputs": [
        {
          "output_type": "stream",
          "text": [
            "/usr/local/lib/python3.6/dist-packages/torch/serialization.py:251: UserWarning: Couldn't retrieve source code for container of type Task2B. It won't be checked for correctness upon loading.\n",
            "  \"type \" + obj.__name__ + \". It won't be checked \"\n"
          ],
          "name": "stderr"
        }
      ]
    },
    {
      "metadata": {
        "id": "owCnjCzp4sWd",
        "colab_type": "text"
      },
      "cell_type": "markdown",
      "source": [
        "#TASK2C"
      ]
    },
    {
      "metadata": {
        "id": "EVm_NMbjKsfZ",
        "colab_type": "code",
        "colab": {}
      },
      "cell_type": "code",
      "source": [
        "class Task2C(nn.Module):\n",
        "  def __init__(self, num_labels, vocab_size):\n",
        "    super(Task2C, self).__init__()\n",
        "    self.lin = nn.Linear(vocab_size, 30)\n",
        "    self.lin1 = nn.Linear(30, 30)\n",
        "    self.lin2 = nn.Linear(30, num_labels)\n",
        "    \n",
        "  def forward(self, x):\n",
        "    return F.softmax(self.lin2(self.lin1(self.lin(x))))"
      ],
      "execution_count": 0,
      "outputs": []
    },
    {
      "metadata": {
        "id": "0DN0OW_s424d",
        "colab_type": "code",
        "colab": {}
      },
      "cell_type": "code",
      "source": [
        "Task_2C = Task2C(NUM_LABELS, VOCAB_SIZE).cuda()"
      ],
      "execution_count": 0,
      "outputs": []
    },
    {
      "metadata": {
        "id": "FGsBnli443A6",
        "colab_type": "code",
        "colab": {}
      },
      "cell_type": "code",
      "source": [
        "# define a loss function and an optimizer\n",
        "loss_functionTask2C = nn.NLLLoss()\n",
        "optTask2C = torch.optim.SGD(Task_2C.parameters(), lr = 0.05)"
      ],
      "execution_count": 0,
      "outputs": []
    },
    {
      "metadata": {
        "id": "o3ENNXRR43Tm",
        "colab_type": "code",
        "outputId": "7c13a3d0-215f-4d44-dd7f-ad36db99633c",
        "colab": {
          "base_uri": "https://localhost:8080/",
          "height": 298
        }
      },
      "cell_type": "code",
      "source": [
        " #Task2C\n",
        "# the training loop\n",
        "for epoch in range(4):\n",
        "    print(epoch)\n",
        "    for instance, label in data:\n",
        "        # get the training data\n",
        "        Task_2C.zero_grad()\n",
        "        bow_vec = Variable(make_bow_vector(instance, word_to_ix)).cuda()\n",
        "        label = Variable(make_target(label))\n",
        "        probs = Task_2C(bow_vec) # forward pass\n",
        "        loss = loss_functionTask2C(probs, label)\n",
        "        loss.backward()\n",
        "        optTask2C.step()\n",
        "    print('CURRENT LOSS: {}'.format(loss.data))\n",
        "    \n",
        "from sklearn.metrics import precision_score\n",
        "from sklearn.metrics import recall_score\n",
        "from sklearn.metrics import f1_score\n",
        "from sklearn.metrics import accuracy_score\n",
        "\n",
        "print('--- AFTER TRAINING ---')\n",
        "predictions = list()\n",
        "for instance, label in test_data:\n",
        "    bow_vec = Variable(make_bow_vector(instance, word_to_ix))\n",
        "    logprobs = Task_2C(bow_vec.cuda())\n",
        "    pred = np.argmax(logprobs.data.cpu().numpy())\n",
        "    predictions.append(pred)\n",
        "    \n",
        "print('Precision: {}'.format(precision_score(test_labels,predictions)))\n",
        "print('Recall: {}'.format(recall_score(test_labels,predictions)))\n",
        "print('f1-score: {}'.format(f1_score(test_labels,predictions)))\n",
        "print('Accuracy: {}'.format(accuracy_score(test_labels,predictions)))\n",
        "\n"
      ],
      "execution_count": 0,
      "outputs": [
        {
          "output_type": "stream",
          "text": [
            "0\n"
          ],
          "name": "stdout"
        },
        {
          "output_type": "stream",
          "text": [
            "/usr/local/lib/python3.6/dist-packages/ipykernel_launcher.py:9: UserWarning: Implicit dimension choice for softmax has been deprecated. Change the call to include dim=X as an argument.\n",
            "  if __name__ == '__main__':\n"
          ],
          "name": "stderr"
        },
        {
          "output_type": "stream",
          "text": [
            "CURRENT LOSS: -1.0\n",
            "1\n",
            "CURRENT LOSS: -1.0\n",
            "2\n",
            "CURRENT LOSS: -1.0\n",
            "3\n",
            "CURRENT LOSS: -1.0\n",
            "--- AFTER TRAINING ---\n",
            "Precision: 0.7370381868984788\n",
            "Recall: 0.9428117553613979\n",
            "f1-score: 0.8273218330719638\n",
            "Accuracy: 0.8018\n"
          ],
          "name": "stdout"
        }
      ]
    },
    {
      "metadata": {
        "id": "45hI6_UH43h7",
        "colab_type": "code",
        "outputId": "a7621d89-58fc-46c2-d2ce-635e5349429e",
        "colab": {
          "base_uri": "https://localhost:8080/",
          "height": 72
        }
      },
      "cell_type": "code",
      "source": [
        "torch.save(Task_2C,\"Task2C.mdl\")\n",
        "from google.colab import files\n",
        "files.download(\"Task2C.mdl\")"
      ],
      "execution_count": 0,
      "outputs": [
        {
          "output_type": "stream",
          "text": [
            "/usr/local/lib/python3.6/dist-packages/torch/serialization.py:251: UserWarning: Couldn't retrieve source code for container of type Task2C. It won't be checked for correctness upon loading.\n",
            "  \"type \" + obj.__name__ + \". It won't be checked \"\n"
          ],
          "name": "stderr"
        }
      ]
    },
    {
      "metadata": {
        "id": "bKj0Jnpf7qMd",
        "colab_type": "text"
      },
      "cell_type": "markdown",
      "source": [
        "#TASK2D"
      ]
    },
    {
      "metadata": {
        "id": "SQYg9kFEK2aD",
        "colab_type": "code",
        "colab": {}
      },
      "cell_type": "code",
      "source": [
        "class Task2D(nn.Module):\n",
        "  def __init__(self, num_labels, vocab_size):\n",
        "    super(Task2D, self).__init__()\n",
        "    self.lin = nn.Linear(vocab_size, 50)\n",
        "    self.lin1 = nn.Linear(50, 50)\n",
        "    self.lin2 = nn.Linear(50, num_labels)\n",
        "    \n",
        "  def forward(self, x):\n",
        "    return F.softmax(self.lin2(self.lin1(self.lin(x))))"
      ],
      "execution_count": 0,
      "outputs": []
    },
    {
      "metadata": {
        "id": "5lv7q9ks83kF",
        "colab_type": "code",
        "colab": {}
      },
      "cell_type": "code",
      "source": [
        "Task_2D = Task2D(NUM_LABELS, VOCAB_SIZE).cuda()"
      ],
      "execution_count": 0,
      "outputs": []
    },
    {
      "metadata": {
        "id": "kfSSGGuz83sY",
        "colab_type": "code",
        "colab": {}
      },
      "cell_type": "code",
      "source": [
        "# define a loss function and an optimizer\n",
        "loss_functionTask2D = nn.NLLLoss()\n",
        "optTask2D = torch.optim.SGD(Task_2D.parameters(), lr = 0.001)"
      ],
      "execution_count": 0,
      "outputs": []
    },
    {
      "metadata": {
        "id": "W9oyFxRn83zc",
        "colab_type": "code",
        "outputId": "8dc143b5-a0cb-4ef6-edb4-4d3a54f49ff6",
        "colab": {
          "base_uri": "https://localhost:8080/",
          "height": 298
        }
      },
      "cell_type": "code",
      "source": [
        " #Task2D\n",
        "# the training loop\n",
        "for epoch in range(4):\n",
        "    print(epoch)\n",
        "    for instance, label in data:\n",
        "        # get the training data\n",
        "        Task_2D.zero_grad()\n",
        "        bow_vec = Variable(make_bow_vector(instance, word_to_ix)).cuda()\n",
        "        label = Variable(make_target(label))\n",
        "        probs = Task_2D(bow_vec) # forward pass\n",
        "        loss = loss_functionTask2D(probs, label)\n",
        "        loss.backward()\n",
        "        optTask2D.step()\n",
        "    print('CURRENT LOSS: {}'.format(loss.data))\n",
        "    \n",
        "from sklearn.metrics import precision_score\n",
        "from sklearn.metrics import recall_score\n",
        "from sklearn.metrics import f1_score\n",
        "from sklearn.metrics import accuracy_score\n",
        "\n",
        "print('--- AFTER TRAINING ---')\n",
        "predictions = list()\n",
        "for instance, label in test_data:\n",
        "    bow_vec = Variable(make_bow_vector(instance, word_to_ix))\n",
        "    logprobs = Task_2D(bow_vec.cuda())\n",
        "    pred = np.argmax(logprobs.data.cpu().numpy())\n",
        "    predictions.append(pred)\n",
        "    \n",
        "print('Precision: {}'.format(precision_score(test_labels,predictions)))\n",
        "print('Recall: {}'.format(recall_score(test_labels,predictions)))\n",
        "print('f1-score: {}'.format(f1_score(test_labels,predictions)))\n",
        "print('Accuracy: {}'.format(accuracy_score(test_labels,predictions)))\n",
        "\n"
      ],
      "execution_count": 0,
      "outputs": [
        {
          "output_type": "stream",
          "text": [
            "0\n"
          ],
          "name": "stdout"
        },
        {
          "output_type": "stream",
          "text": [
            "/usr/local/lib/python3.6/dist-packages/ipykernel_launcher.py:9: UserWarning: Implicit dimension choice for softmax has been deprecated. Change the call to include dim=X as an argument.\n",
            "  if __name__ == '__main__':\n"
          ],
          "name": "stderr"
        },
        {
          "output_type": "stream",
          "text": [
            "CURRENT LOSS: -0.8653515577316284\n",
            "1\n",
            "CURRENT LOSS: -0.9867892861366272\n",
            "2\n",
            "CURRENT LOSS: -0.9961445331573486\n",
            "3\n",
            "CURRENT LOSS: -0.9964816570281982\n",
            "--- AFTER TRAINING ---\n",
            "Precision: 0.8597026305756768\n",
            "Recall: 0.8955520254169976\n",
            "f1-score: 0.8772612332231084\n",
            "Accuracy: 0.8738\n"
          ],
          "name": "stdout"
        }
      ]
    },
    {
      "metadata": {
        "id": "_uVijDZ_83ev",
        "colab_type": "code",
        "outputId": "0b1d015d-0728-42de-81eb-5a445970b14b",
        "colab": {
          "base_uri": "https://localhost:8080/",
          "height": 72
        }
      },
      "cell_type": "code",
      "source": [
        "torch.save(Task_2D,\"Task2D.mdl\")\n",
        "from google.colab import files\n",
        "files.download(\"Task2D.mdl\")"
      ],
      "execution_count": 0,
      "outputs": [
        {
          "output_type": "stream",
          "text": [
            "/usr/local/lib/python3.6/dist-packages/torch/serialization.py:251: UserWarning: Couldn't retrieve source code for container of type Task2D. It won't be checked for correctness upon loading.\n",
            "  \"type \" + obj.__name__ + \". It won't be checked \"\n"
          ],
          "name": "stderr"
        }
      ]
    },
    {
      "metadata": {
        "id": "38osfgqWAZZO",
        "colab_type": "text"
      },
      "cell_type": "markdown",
      "source": [
        "#TASK2E"
      ]
    },
    {
      "metadata": {
        "id": "o3Tkxu0_K2jJ",
        "colab_type": "code",
        "colab": {}
      },
      "cell_type": "code",
      "source": [
        "class Task2E(nn.Module):\n",
        "  def __init__(self, num_labels, vocab_size):\n",
        "    super(Task2E, self).__init__()\n",
        "    self.lin = nn.Linear(vocab_size, 50)\n",
        "    self.lin1 = nn.Linear(50, 100)\n",
        "    self.lin2 = nn.Linear(100, num_labels)\n",
        "    \n",
        "  def forward(self, x):\n",
        "    return F.softmax(self.lin2(self.lin1(self.lin(x))))"
      ],
      "execution_count": 0,
      "outputs": []
    },
    {
      "metadata": {
        "id": "AWB_trIRBv62",
        "colab_type": "code",
        "colab": {}
      },
      "cell_type": "code",
      "source": [
        "Task_2E = Task2E(NUM_LABELS, VOCAB_SIZE).cuda()"
      ],
      "execution_count": 0,
      "outputs": []
    },
    {
      "metadata": {
        "id": "Kz1q4mVoBwBg",
        "colab_type": "code",
        "colab": {}
      },
      "cell_type": "code",
      "source": [
        "# define a loss function and an optimizer\n",
        "loss_functionTask2E = nn.NLLLoss()\n",
        "optTask2E = torch.optim.SGD(Task_2E.parameters(), lr = 0.005)"
      ],
      "execution_count": 0,
      "outputs": []
    },
    {
      "metadata": {
        "id": "8WaX0UW9BwIM",
        "colab_type": "code",
        "outputId": "22d838ab-22b4-43a1-bd13-4fcb03787488",
        "colab": {
          "base_uri": "https://localhost:8080/",
          "height": 298
        }
      },
      "cell_type": "code",
      "source": [
        " #Task2E\n",
        "# the training loop\n",
        "for epoch in range(4):\n",
        "    print(epoch)\n",
        "    for instance, label in data:\n",
        "        # get the training data\n",
        "        Task_2E.zero_grad()\n",
        "        bow_vec = Variable(make_bow_vector(instance, word_to_ix)).cuda()\n",
        "        label = Variable(make_target(label))\n",
        "        probs = Task_2E(bow_vec) # forward pass\n",
        "        loss = loss_functionTask2E(probs, label)\n",
        "        loss.backward()\n",
        "        optTask2E.step()\n",
        "    print('CURRENT LOSS: {}'.format(loss.data))\n",
        "    \n",
        "from sklearn.metrics import precision_score\n",
        "from sklearn.metrics import recall_score\n",
        "from sklearn.metrics import f1_score\n",
        "from sklearn.metrics import accuracy_score\n",
        "\n",
        "print('--- AFTER TRAINING ---')\n",
        "predictions = list()\n",
        "for instance, label in test_data:\n",
        "    bow_vec = Variable(make_bow_vector(instance, word_to_ix))\n",
        "    logprobs = Task_2E(bow_vec.cuda())\n",
        "    pred = np.argmax(logprobs.data.cpu().numpy())\n",
        "    predictions.append(pred)\n",
        "    \n",
        "print('Precision: {}'.format(precision_score(test_labels,predictions)))\n",
        "print('Recall: {}'.format(recall_score(test_labels,predictions)))\n",
        "print('f1-score: {}'.format(f1_score(test_labels,predictions)))\n",
        "print('Accuracy: {}'.format(accuracy_score(test_labels,predictions)))\n",
        "\n"
      ],
      "execution_count": 41,
      "outputs": [
        {
          "output_type": "stream",
          "text": [
            "0\n"
          ],
          "name": "stdout"
        },
        {
          "output_type": "stream",
          "text": [
            "/usr/local/lib/python3.6/dist-packages/ipykernel_launcher.py:9: UserWarning: Implicit dimension choice for softmax has been deprecated. Change the call to include dim=X as an argument.\n",
            "  if __name__ == '__main__':\n"
          ],
          "name": "stderr"
        },
        {
          "output_type": "stream",
          "text": [
            "CURRENT LOSS: -0.9999836683273315\n",
            "1\n",
            "CURRENT LOSS: -1.0\n",
            "2\n",
            "CURRENT LOSS: -1.0\n",
            "3\n",
            "CURRENT LOSS: -0.9999996423721313\n",
            "--- AFTER TRAINING ---\n",
            "Precision: 0.8717948717948718\n",
            "Recall: 0.8641779189833201\n",
            "f1-score: 0.8679696848823294\n",
            "Accuracy: 0.8676\n"
          ],
          "name": "stdout"
        }
      ]
    },
    {
      "metadata": {
        "id": "E-3rWXKPBwPH",
        "colab_type": "code",
        "colab": {
          "base_uri": "https://localhost:8080/",
          "height": 72
        },
        "outputId": "56947185-5d1e-4b91-b7a3-3028dd2fe9f3"
      },
      "cell_type": "code",
      "source": [
        "torch.save(Task_2E,\"Task2E.mdl\")\n",
        "from google.colab import files\n",
        "files.download(\"Task2E.mdl\")"
      ],
      "execution_count": 42,
      "outputs": [
        {
          "output_type": "stream",
          "text": [
            "/usr/local/lib/python3.6/dist-packages/torch/serialization.py:251: UserWarning: Couldn't retrieve source code for container of type Task2E. It won't be checked for correctness upon loading.\n",
            "  \"type \" + obj.__name__ + \". It won't be checked \"\n"
          ],
          "name": "stderr"
        }
      ]
    },
    {
      "metadata": {
        "id": "aOuLV1FlGIiH",
        "colab_type": "text"
      },
      "cell_type": "markdown",
      "source": [
        "#TASK3A"
      ]
    },
    {
      "metadata": {
        "id": "yk5elBrsK2r9",
        "colab_type": "code",
        "colab": {}
      },
      "cell_type": "code",
      "source": [
        "class Task3A(nn.Module):\n",
        "  def __init__(self, num_labels, vocab_size):\n",
        "    super(Task3A, self).__init__()\n",
        "    self.lin = nn.Linear(vocab_size, 100)\n",
        "    self.lin1 = nn.Linear(100, 50)\n",
        "    self.lin2 = nn.Linear(50, 10)\n",
        "    self.lin3 = nn.Linear(10, num_labels)\n",
        "    \n",
        "    \n",
        "  def forward(self, x):\n",
        "    return F.softmax(self.lin3(self.lin2(self.lin1(self.lin(x)))))"
      ],
      "execution_count": 0,
      "outputs": []
    },
    {
      "metadata": {
        "id": "mJqkSzHGGYrO",
        "colab_type": "code",
        "colab": {}
      },
      "cell_type": "code",
      "source": [
        "Task_3A = Task3A(NUM_LABELS, VOCAB_SIZE).cuda()"
      ],
      "execution_count": 0,
      "outputs": []
    },
    {
      "metadata": {
        "id": "hh_UjzIzGYv0",
        "colab_type": "code",
        "colab": {}
      },
      "cell_type": "code",
      "source": [
        "# define a loss function and an optimizer\n",
        "loss_functionTask3A = nn.NLLLoss()\n",
        "optTask3A = torch.optim.SGD(Task_3A.parameters(), lr = 0.025)"
      ],
      "execution_count": 0,
      "outputs": []
    },
    {
      "metadata": {
        "id": "899yagNyGY0W",
        "colab_type": "code",
        "colab": {
          "base_uri": "https://localhost:8080/",
          "height": 332
        },
        "outputId": "a53b3514-695a-4128-ce06-537d69d13f0c"
      },
      "cell_type": "code",
      "source": [
        "# Task3A\n",
        "# the training loop\n",
        "for epoch in range(5):\n",
        "    print(epoch)\n",
        "    for instance, label in data:\n",
        "        # get the training data\n",
        "        Task_3A.zero_grad()\n",
        "        bow_vec = Variable(make_bow_vector(instance, word_to_ix)).cuda()\n",
        "        label = Variable(make_target(label))\n",
        "        probs = Task_3A(bow_vec) # forward pass\n",
        "        loss = loss_functionTask3A(probs, label)\n",
        "        loss.backward()\n",
        "        optTask3A.step()\n",
        "    print('CURRENT LOSS: {}'.format(loss.data))\n",
        "    \n",
        "from sklearn.metrics import precision_score\n",
        "from sklearn.metrics import recall_score\n",
        "from sklearn.metrics import f1_score\n",
        "from sklearn.metrics import accuracy_score\n",
        "\n",
        "print('--- AFTER TRAINING ---')\n",
        "predictions = list()\n",
        "for instance, label in test_data:\n",
        "    bow_vec = Variable(make_bow_vector(instance, word_to_ix))\n",
        "    logprobs = Task_3A(bow_vec.cuda())\n",
        "    pred = np.argmax(logprobs.data.cpu().numpy())\n",
        "    predictions.append(pred)\n",
        "    \n",
        "print('Precision: {}'.format(precision_score(test_labels,predictions)))\n",
        "print('Recall: {}'.format(recall_score(test_labels,predictions)))\n",
        "print('f1-score: {}'.format(f1_score(test_labels,predictions)))\n",
        "print('Accuracy: {}'.format(accuracy_score(test_labels,predictions)))\n",
        "\n"
      ],
      "execution_count": 35,
      "outputs": [
        {
          "output_type": "stream",
          "text": [
            "0\n"
          ],
          "name": "stdout"
        },
        {
          "output_type": "stream",
          "text": [
            "/usr/local/lib/python3.6/dist-packages/ipykernel_launcher.py:11: UserWarning: Implicit dimension choice for softmax has been deprecated. Change the call to include dim=X as an argument.\n",
            "  # This is added back by InteractiveShellApp.init_path()\n"
          ],
          "name": "stderr"
        },
        {
          "output_type": "stream",
          "text": [
            "CURRENT LOSS: -1.0\n",
            "1\n",
            "CURRENT LOSS: -1.0\n",
            "2\n",
            "CURRENT LOSS: -1.0\n",
            "3\n",
            "CURRENT LOSS: -1.0\n",
            "4\n",
            "CURRENT LOSS: -1.0\n",
            "--- AFTER TRAINING ---\n",
            "Precision: 0.8565112540192926\n",
            "Recall: 0.846306592533757\n",
            "f1-score: 0.8513783459848183\n",
            "Accuracy: 0.8512\n"
          ],
          "name": "stdout"
        }
      ]
    },
    {
      "metadata": {
        "id": "0o0ukKL8GY6M",
        "colab_type": "code",
        "colab": {
          "base_uri": "https://localhost:8080/",
          "height": 72
        },
        "outputId": "70f456df-1f1c-47fa-dce9-0b1e6126e7ad"
      },
      "cell_type": "code",
      "source": [
        "torch.save(Task_3A,\"Task3A.mdl\")\n",
        "from google.colab import files\n",
        "files.download(\"Task3A.mdl\")"
      ],
      "execution_count": 36,
      "outputs": [
        {
          "output_type": "stream",
          "text": [
            "/usr/local/lib/python3.6/dist-packages/torch/serialization.py:251: UserWarning: Couldn't retrieve source code for container of type Task3A. It won't be checked for correctness upon loading.\n",
            "  \"type \" + obj.__name__ + \". It won't be checked \"\n"
          ],
          "name": "stderr"
        }
      ]
    },
    {
      "metadata": {
        "id": "e_NWflzTLkUW",
        "colab_type": "text"
      },
      "cell_type": "markdown",
      "source": [
        "#TASK3B"
      ]
    },
    {
      "metadata": {
        "id": "SnvY14hHLpyN",
        "colab_type": "code",
        "colab": {}
      },
      "cell_type": "code",
      "source": [
        "class Task3B(nn.Module):\n",
        "  def __init__(self, num_labels, vocab_size):\n",
        "    super(Task3B, self).__init__()\n",
        "    self.lin = nn.Linear(vocab_size, 200)\n",
        "    self.lin1 = nn.Linear(200, 100)\n",
        "    self.lin2 = nn.Linear(100, 10)\n",
        "    self.lin3 = nn.Linear(10, num_labels)\n",
        "    \n",
        "    \n",
        "  def forward(self, x):\n",
        "    return F.softmax(self.lin3(self.lin2(self.lin1(self.lin(x)))))"
      ],
      "execution_count": 0,
      "outputs": []
    },
    {
      "metadata": {
        "id": "PjdrQunmLp3q",
        "colab_type": "code",
        "colab": {}
      },
      "cell_type": "code",
      "source": [
        "Task_3B = Task3B(NUM_LABELS, VOCAB_SIZE).cuda()"
      ],
      "execution_count": 0,
      "outputs": []
    },
    {
      "metadata": {
        "id": "jwJV91p5Lp8V",
        "colab_type": "code",
        "colab": {}
      },
      "cell_type": "code",
      "source": [
        "# define a loss function and an optimizer\n",
        "loss_functionTask3B = nn.NLLLoss()\n",
        "optTask3B = torch.optim.SGD(Task_3B.parameters(), lr = 0.005)"
      ],
      "execution_count": 0,
      "outputs": []
    },
    {
      "metadata": {
        "id": "8jTH6GwWLqA9",
        "colab_type": "code",
        "colab": {
          "base_uri": "https://localhost:8080/",
          "height": 332
        },
        "outputId": "7e0519ab-ee75-4a85-a920-a45624fc50b0"
      },
      "cell_type": "code",
      "source": [
        "# Task3B\n",
        "# the training loop\n",
        "for epoch in range(5):\n",
        "    print(epoch)\n",
        "    for instance, label in data:\n",
        "        # get the training data\n",
        "        Task_3B.zero_grad()\n",
        "        bow_vec = Variable(make_bow_vector(instance, word_to_ix)).cuda()\n",
        "        label = Variable(make_target(label))\n",
        "        probs = Task_3B(bow_vec) # forward pass\n",
        "        loss = loss_functionTask3B(probs, label)\n",
        "        loss.backward()\n",
        "        optTask3B.step()\n",
        "    print('CURRENT LOSS: {}'.format(loss.data))\n",
        "    \n",
        "from sklearn.metrics import precision_score\n",
        "from sklearn.metrics import recall_score\n",
        "from sklearn.metrics import f1_score\n",
        "from sklearn.metrics import accuracy_score\n",
        "\n",
        "print('--- AFTER TRAINING ---')\n",
        "predictions = list()\n",
        "for instance, label in test_data:\n",
        "    bow_vec = Variable(make_bow_vector(instance, word_to_ix))\n",
        "    logprobs = Task_3B(bow_vec.cuda())\n",
        "    pred = np.argmax(logprobs.data.cpu().numpy())\n",
        "    predictions.append(pred)\n",
        "    \n",
        "print('Precision: {}'.format(precision_score(test_labels,predictions)))\n",
        "print('Recall: {}'.format(recall_score(test_labels,predictions)))\n",
        "print('f1-score: {}'.format(f1_score(test_labels,predictions)))\n",
        "print('Accuracy: {}'.format(accuracy_score(test_labels,predictions)))\n"
      ],
      "execution_count": 48,
      "outputs": [
        {
          "output_type": "stream",
          "text": [
            "0\n"
          ],
          "name": "stdout"
        },
        {
          "output_type": "stream",
          "text": [
            "/usr/local/lib/python3.6/dist-packages/ipykernel_launcher.py:11: UserWarning: Implicit dimension choice for softmax has been deprecated. Change the call to include dim=X as an argument.\n",
            "  # This is added back by InteractiveShellApp.init_path()\n"
          ],
          "name": "stderr"
        },
        {
          "output_type": "stream",
          "text": [
            "CURRENT LOSS: -1.0\n",
            "1\n",
            "CURRENT LOSS: -1.0\n",
            "2\n",
            "CURRENT LOSS: -1.0\n",
            "3\n",
            "CURRENT LOSS: -0.9999985694885254\n",
            "4\n",
            "CURRENT LOSS: -1.0\n",
            "--- AFTER TRAINING ---\n",
            "Precision: 0.8659127625201939\n",
            "Recall: 0.8514694201747418\n",
            "f1-score: 0.8586303564277132\n",
            "Accuracy: 0.8588\n"
          ],
          "name": "stdout"
        }
      ]
    },
    {
      "metadata": {
        "id": "Lb9n4BFpLqHO",
        "colab_type": "code",
        "colab": {
          "base_uri": "https://localhost:8080/",
          "height": 72
        },
        "outputId": "d0421137-4469-45a4-e5c4-91a31368fc75"
      },
      "cell_type": "code",
      "source": [
        "torch.save(Task_3B,\"Task3B.mdl\")\n",
        "from google.colab import files\n",
        "files.download(\"Task3B.mdl\")"
      ],
      "execution_count": 49,
      "outputs": [
        {
          "output_type": "stream",
          "text": [
            "/usr/local/lib/python3.6/dist-packages/torch/serialization.py:251: UserWarning: Couldn't retrieve source code for container of type Task3B. It won't be checked for correctness upon loading.\n",
            "  \"type \" + obj.__name__ + \". It won't be checked \"\n"
          ],
          "name": "stderr"
        }
      ]
    },
    {
      "metadata": {
        "id": "6AzUJnCOPCWF",
        "colab_type": "text"
      },
      "cell_type": "markdown",
      "source": [
        "#TASK4A"
      ]
    },
    {
      "metadata": {
        "id": "ucie3r-hPJAX",
        "colab_type": "code",
        "colab": {}
      },
      "cell_type": "code",
      "source": [
        "class Task4A(nn.Module):\n",
        "  def __init__(self, num_labels, vocab_size):\n",
        "    super(Task4A, self).__init__()\n",
        "    self.lin = nn.Linear(vocab_size, 30)\n",
        "    self.lin1 = nn.Linear(30, 20)\n",
        "    self.lin2 = nn.Linear(20, 10)\n",
        "    self.lin3 = nn.Linear(10, num_labels)\n",
        "    \n",
        "    self.droplayer = nn.Dropout(p=0.3)\n",
        "    \n",
        "    \n",
        "  def forward(self, x):\n",
        "    return F.softmax(self.lin3(self.droplayer(self.lin2(self.lin1(self.lin(x))))))"
      ],
      "execution_count": 0,
      "outputs": []
    },
    {
      "metadata": {
        "id": "6_yFRftIPJGa",
        "colab_type": "code",
        "colab": {}
      },
      "cell_type": "code",
      "source": [
        "Task_4A = Task4A(NUM_LABELS, VOCAB_SIZE).cuda()"
      ],
      "execution_count": 0,
      "outputs": []
    },
    {
      "metadata": {
        "id": "egCjKRURPJOK",
        "colab_type": "code",
        "colab": {}
      },
      "cell_type": "code",
      "source": [
        "# define a loss function and an optimizer\n",
        "loss_functionTask4A = nn.NLLLoss()\n",
        "optTask4A = torch.optim.SGD(Task_4A.parameters(), lr = 0.006)"
      ],
      "execution_count": 0,
      "outputs": []
    },
    {
      "metadata": {
        "id": "NdeNhd35PJVI",
        "colab_type": "code",
        "colab": {
          "base_uri": "https://localhost:8080/",
          "height": 367
        },
        "outputId": "d0fd9fcf-7f11-48a8-96ac-13b1445ed69a"
      },
      "cell_type": "code",
      "source": [
        "# Task4A\n",
        "# the training loop\n",
        "for epoch in range(6):\n",
        "    print(epoch)\n",
        "    for instance, label in data:\n",
        "        # get the training data\n",
        "        Task_4A.zero_grad()\n",
        "        bow_vec = Variable(make_bow_vector(instance, word_to_ix)).cuda()\n",
        "        label = Variable(make_target(label))\n",
        "        probs = Task_4A(bow_vec) # forward pass\n",
        "        loss = loss_functionTask4A(probs, label)\n",
        "        loss.backward()\n",
        "        optTask4A.step()\n",
        "    print('CURRENT LOSS: {}'.format(loss.data))\n",
        "    \n",
        "from sklearn.metrics import precision_score\n",
        "from sklearn.metrics import recall_score\n",
        "from sklearn.metrics import f1_score\n",
        "from sklearn.metrics import accuracy_score\n",
        "\n",
        "print('--- AFTER TRAINING ---')\n",
        "predictions = list()\n",
        "for instance, label in test_data:\n",
        "    bow_vec = Variable(make_bow_vector(instance, word_to_ix))\n",
        "    logprobs = Task_4A(bow_vec.cuda())\n",
        "    pred = np.argmax(logprobs.data.cpu().numpy())\n",
        "    predictions.append(pred)\n",
        "    \n",
        "print('Precision: {}'.format(precision_score(test_labels,predictions)))\n",
        "print('Recall: {}'.format(recall_score(test_labels,predictions)))\n",
        "print('f1-score: {}'.format(f1_score(test_labels,predictions)))\n",
        "print('Accuracy: {}'.format(accuracy_score(test_labels,predictions)))"
      ],
      "execution_count": 53,
      "outputs": [
        {
          "output_type": "stream",
          "text": [
            "0\n"
          ],
          "name": "stdout"
        },
        {
          "output_type": "stream",
          "text": [
            "/usr/local/lib/python3.6/dist-packages/ipykernel_launcher.py:13: UserWarning: Implicit dimension choice for softmax has been deprecated. Change the call to include dim=X as an argument.\n",
            "  del sys.path[0]\n"
          ],
          "name": "stderr"
        },
        {
          "output_type": "stream",
          "text": [
            "CURRENT LOSS: -0.9999998807907104\n",
            "1\n",
            "CURRENT LOSS: -1.0\n",
            "2\n",
            "CURRENT LOSS: -1.0\n",
            "3\n",
            "CURRENT LOSS: -1.0\n",
            "4\n",
            "CURRENT LOSS: -0.9423568248748779\n",
            "5\n",
            "CURRENT LOSS: -1.0\n",
            "--- AFTER TRAINING ---\n",
            "Precision: 0.8669093851132686\n",
            "Recall: 0.8510722795869737\n",
            "f1-score: 0.8589178356713427\n",
            "Accuracy: 0.8592\n"
          ],
          "name": "stdout"
        }
      ]
    },
    {
      "metadata": {
        "id": "zxc_SvQRPJ9D",
        "colab_type": "code",
        "colab": {
          "base_uri": "https://localhost:8080/",
          "height": 72
        },
        "outputId": "cfcf9cd3-ac77-4cd7-d4f2-7e195bd61fe5"
      },
      "cell_type": "code",
      "source": [
        "torch.save(Task_4A,\"Task4A.mdl\")\n",
        "from google.colab import files\n",
        "files.download(\"Task4A.mdl\")"
      ],
      "execution_count": 54,
      "outputs": [
        {
          "output_type": "stream",
          "text": [
            "/usr/local/lib/python3.6/dist-packages/torch/serialization.py:251: UserWarning: Couldn't retrieve source code for container of type Task4A. It won't be checked for correctness upon loading.\n",
            "  \"type \" + obj.__name__ + \". It won't be checked \"\n"
          ],
          "name": "stderr"
        }
      ]
    },
    {
      "metadata": {
        "id": "a2myOIC8UU24",
        "colab_type": "text"
      },
      "cell_type": "markdown",
      "source": [
        "#TASK4B"
      ]
    },
    {
      "metadata": {
        "id": "fW5mp8fnUYJO",
        "colab_type": "code",
        "colab": {}
      },
      "cell_type": "code",
      "source": [
        "class Task4B(nn.Module):\n",
        "  def __init__(self, num_labels, vocab_size):\n",
        "    super(Task4B, self).__init__()\n",
        "    self.lin = nn.Linear(vocab_size, 100)\n",
        "    self.lin1 = nn.Linear(100, 100)\n",
        "    self.lin3 = nn.Linear(100, num_labels)\n",
        "    \n",
        "    self.droplayer = nn.Dropout(p=0.3)\n",
        "    \n",
        "    \n",
        "  def forward(self, x):\n",
        "    return F.softmax(self.lin3(self.droplayer(self.lin1(self.lin(x)))))"
      ],
      "execution_count": 0,
      "outputs": []
    },
    {
      "metadata": {
        "id": "Dt1ZOq_NUYST",
        "colab_type": "code",
        "colab": {}
      },
      "cell_type": "code",
      "source": [
        "Task_4B = Task4B(NUM_LABELS, VOCAB_SIZE).cuda()"
      ],
      "execution_count": 0,
      "outputs": []
    },
    {
      "metadata": {
        "id": "skHm5x0zUYZg",
        "colab_type": "code",
        "colab": {}
      },
      "cell_type": "code",
      "source": [
        "# define a loss function and an optimizer\n",
        "loss_functionTask4B = nn.NLLLoss()\n",
        "optTask4B = torch.optim.SGD(Task_4B.parameters(), lr = 0.005)"
      ],
      "execution_count": 0,
      "outputs": []
    },
    {
      "metadata": {
        "id": "ZjctX9BKUYiz",
        "colab_type": "code",
        "colab": {
          "base_uri": "https://localhost:8080/",
          "height": 367
        },
        "outputId": "3daae106-3318-4547-85fc-10069971bd65"
      },
      "cell_type": "code",
      "source": [
        "# Task4B\n",
        "# the training loop\n",
        "for epoch in range(6):\n",
        "    print(epoch)\n",
        "    for instance, label in data:\n",
        "        # get the training data\n",
        "        Task_4B.zero_grad()\n",
        "        bow_vec = Variable(make_bow_vector(instance, word_to_ix)).cuda()\n",
        "        label = Variable(make_target(label))\n",
        "        probs = Task_4B(bow_vec) # forward pass\n",
        "        loss = loss_functionTask4B(probs, label)\n",
        "        loss.backward()\n",
        "        optTask4B.step()\n",
        "    print('CURRENT LOSS: {}'.format(loss.data))\n",
        "    \n",
        "from sklearn.metrics import precision_score\n",
        "from sklearn.metrics import recall_score\n",
        "from sklearn.metrics import f1_score\n",
        "from sklearn.metrics import accuracy_score\n",
        "\n",
        "print('--- AFTER TRAINING ---')\n",
        "predictions = list()\n",
        "for instance, label in test_data:\n",
        "    bow_vec = Variable(make_bow_vector(instance, word_to_ix))\n",
        "    logprobs = Task_4B(bow_vec.cuda())\n",
        "    pred = np.argmax(logprobs.data.cpu().numpy())\n",
        "    predictions.append(pred)\n",
        "    \n",
        "print('Precision: {}'.format(precision_score(test_labels,predictions)))\n",
        "print('Recall: {}'.format(recall_score(test_labels,predictions)))\n",
        "print('f1-score: {}'.format(f1_score(test_labels,predictions)))\n",
        "print('Accuracy: {}'.format(accuracy_score(test_labels,predictions)))"
      ],
      "execution_count": 58,
      "outputs": [
        {
          "output_type": "stream",
          "text": [
            "0\n"
          ],
          "name": "stdout"
        },
        {
          "output_type": "stream",
          "text": [
            "/usr/local/lib/python3.6/dist-packages/ipykernel_launcher.py:12: UserWarning: Implicit dimension choice for softmax has been deprecated. Change the call to include dim=X as an argument.\n",
            "  if sys.path[0] == '':\n"
          ],
          "name": "stderr"
        },
        {
          "output_type": "stream",
          "text": [
            "CURRENT LOSS: -0.9999246597290039\n",
            "1\n",
            "CURRENT LOSS: -0.9999189376831055\n",
            "2\n",
            "CURRENT LOSS: -0.9999996423721313\n",
            "3\n",
            "CURRENT LOSS: -0.9999901056289673\n",
            "4\n",
            "CURRENT LOSS: -1.0\n",
            "5\n",
            "CURRENT LOSS: -1.0\n",
            "--- AFTER TRAINING ---\n",
            "Precision: 0.8623924941360438\n",
            "Recall: 0.8760921366163622\n",
            "f1-score: 0.8691883372734436\n",
            "Accuracy: 0.8672\n"
          ],
          "name": "stdout"
        }
      ]
    },
    {
      "metadata": {
        "id": "DnNA6abIUYxu",
        "colab_type": "code",
        "colab": {
          "base_uri": "https://localhost:8080/",
          "height": 72
        },
        "outputId": "f56dc7dc-d822-401d-f761-37a383e315f9"
      },
      "cell_type": "code",
      "source": [
        "torch.save(Task_4B,\"Task4B.mdl\")\n",
        "from google.colab import files\n",
        "files.download(\"Task4B.mdl\")"
      ],
      "execution_count": 59,
      "outputs": [
        {
          "output_type": "stream",
          "text": [
            "/usr/local/lib/python3.6/dist-packages/torch/serialization.py:251: UserWarning: Couldn't retrieve source code for container of type Task4B. It won't be checked for correctness upon loading.\n",
            "  \"type \" + obj.__name__ + \". It won't be checked \"\n"
          ],
          "name": "stderr"
        }
      ]
    },
    {
      "metadata": {
        "id": "OYwsI6BWgZvf",
        "colab_type": "text"
      },
      "cell_type": "markdown",
      "source": [
        "#TASK4C"
      ]
    },
    {
      "metadata": {
        "id": "Aa1Ow1LjgnBH",
        "colab_type": "code",
        "colab": {}
      },
      "cell_type": "code",
      "source": [
        "class Task4C(nn.Module):\n",
        "  def __init__(self, num_labels, vocab_size):\n",
        "    super(Task4C, self).__init__()\n",
        "    self.lin = nn.Linear(vocab_size, 100)\n",
        "    self.lin1 = nn.Linear(100, 10)\n",
        "    self.lin3 = nn.Linear(10, num_labels)\n",
        "    \n",
        "    self.droplayer = nn.Dropout(p=0.3)\n",
        "    \n",
        "    \n",
        "  def forward(self, x):\n",
        "    return F.softmax(self.lin3(self.droplayer(self.lin1(self.lin(x)))))"
      ],
      "execution_count": 0,
      "outputs": []
    },
    {
      "metadata": {
        "id": "qH0TVBSPgnGr",
        "colab_type": "code",
        "colab": {}
      },
      "cell_type": "code",
      "source": [
        "Task_4C = Task4C(NUM_LABELS, VOCAB_SIZE).cuda()"
      ],
      "execution_count": 0,
      "outputs": []
    },
    {
      "metadata": {
        "id": "tNAT-N90gnL0",
        "colab_type": "code",
        "colab": {}
      },
      "cell_type": "code",
      "source": [
        "# define a loss function and an optimizer\n",
        "loss_functionTask4C = nn.NLLLoss()\n",
        "optTask4C = torch.optim.SGD(Task_4C.parameters(), lr = 0.005)"
      ],
      "execution_count": 0,
      "outputs": []
    },
    {
      "metadata": {
        "id": "hIbR42XignRs",
        "colab_type": "code",
        "colab": {
          "base_uri": "https://localhost:8080/",
          "height": 367
        },
        "outputId": "640e4e7f-75ca-4335-e4b2-107cba5d1e3c"
      },
      "cell_type": "code",
      "source": [
        "# Task4C\n",
        "# the training loop\n",
        "for epoch in range(6):\n",
        "    print(epoch)\n",
        "    for instance, label in data:\n",
        "        # get the training data\n",
        "        Task_4C.zero_grad()\n",
        "        bow_vec = Variable(make_bow_vector(instance, word_to_ix)).cuda()\n",
        "        label = Variable(make_target(label))\n",
        "        probs = Task_4C(bow_vec) # forward pass\n",
        "        loss = loss_functionTask4C(probs, label)\n",
        "        loss.backward()\n",
        "        optTask4C.step()\n",
        "    print('CURRENT LOSS: {}'.format(loss.data))\n",
        "    \n",
        "from sklearn.metrics import precision_score\n",
        "from sklearn.metrics import recall_score\n",
        "from sklearn.metrics import f1_score\n",
        "from sklearn.metrics import accuracy_score\n",
        "\n",
        "print('--- AFTER TRAINING ---')\n",
        "predictions = list()\n",
        "for instance, label in test_data:\n",
        "    bow_vec = Variable(make_bow_vector(instance, word_to_ix))\n",
        "    logprobs = Task_4C(bow_vec.cuda())\n",
        "    pred = np.argmax(logprobs.data.cpu().numpy())\n",
        "    predictions.append(pred)\n",
        "    \n",
        "print('Precision: {}'.format(precision_score(test_labels,predictions)))\n",
        "print('Recall: {}'.format(recall_score(test_labels,predictions)))\n",
        "print('f1-score: {}'.format(f1_score(test_labels,predictions)))\n",
        "print('Accuracy: {}'.format(accuracy_score(test_labels,predictions)))"
      ],
      "execution_count": 63,
      "outputs": [
        {
          "output_type": "stream",
          "text": [
            "0\n"
          ],
          "name": "stdout"
        },
        {
          "output_type": "stream",
          "text": [
            "/usr/local/lib/python3.6/dist-packages/ipykernel_launcher.py:12: UserWarning: Implicit dimension choice for softmax has been deprecated. Change the call to include dim=X as an argument.\n",
            "  if sys.path[0] == '':\n"
          ],
          "name": "stderr"
        },
        {
          "output_type": "stream",
          "text": [
            "CURRENT LOSS: -0.9999735355377197\n",
            "1\n",
            "CURRENT LOSS: -0.9999998807907104\n",
            "2\n",
            "CURRENT LOSS: -1.0\n",
            "3\n",
            "CURRENT LOSS: -0.9999498128890991\n",
            "4\n",
            "CURRENT LOSS: -1.0\n",
            "5\n",
            "CURRENT LOSS: -1.0\n",
            "--- AFTER TRAINING ---\n",
            "Precision: 0.8619084561675717\n",
            "Recall: 0.8824463860206513\n",
            "f1-score: 0.8720565149136577\n",
            "Accuracy: 0.8696\n"
          ],
          "name": "stdout"
        }
      ]
    },
    {
      "metadata": {
        "id": "ewI5F6GQgm8f",
        "colab_type": "code",
        "colab": {
          "base_uri": "https://localhost:8080/",
          "height": 72
        },
        "outputId": "b9497503-1f8d-4ae9-ed17-cd0e81d82e30"
      },
      "cell_type": "code",
      "source": [
        "torch.save(Task_4C,\"Task4C.mdl\")\n",
        "from google.colab import files\n",
        "files.download(\"Task4C.mdl\")"
      ],
      "execution_count": 65,
      "outputs": [
        {
          "output_type": "stream",
          "text": [
            "/usr/local/lib/python3.6/dist-packages/torch/serialization.py:251: UserWarning: Couldn't retrieve source code for container of type Task4C. It won't be checked for correctness upon loading.\n",
            "  \"type \" + obj.__name__ + \". It won't be checked \"\n"
          ],
          "name": "stderr"
        }
      ]
    },
    {
      "metadata": {
        "id": "OsLLx9imkEp8",
        "colab_type": "text"
      },
      "cell_type": "markdown",
      "source": [
        "#TASK5A"
      ]
    },
    {
      "metadata": {
        "id": "0-YJvARjkRgR",
        "colab_type": "code",
        "colab": {}
      },
      "cell_type": "code",
      "source": [
        "class Task5A(nn.Module):\n",
        "  def __init__(self, num_labels, vocab_size):\n",
        "    super(Task5A, self).__init__()\n",
        "    self.lin = nn.Linear(vocab_size, 30)\n",
        "    self.lin1 = nn.Linear(30, 20)\n",
        "    self.lin2 = nn.Linear(20, 10)\n",
        "    self.lin3 = nn.Linear(10, num_labels)\n",
        "    \n",
        "    self.droplayer = nn.Dropout(p=0.4)\n",
        "    \n",
        "    \n",
        "  def forward(self, x):\n",
        "    x=F.relu(self.lin(x))\n",
        "    x=self.droplayer(x)\n",
        "    x=F.relu(self.lin1(x))\n",
        "    x=self.droplayer(x)\n",
        "    x=F.relu(self.lin2(x))\n",
        "    x=self.droplayer(x)\n",
        "    x=F.softmax(self.lin3(x),dim=1)\n",
        "    return x\n",
        "\n"
      ],
      "execution_count": 0,
      "outputs": []
    },
    {
      "metadata": {
        "id": "nN2mOjq6rSbs",
        "colab_type": "code",
        "colab": {}
      },
      "cell_type": "code",
      "source": [
        "Task_5A = Task5A(NUM_LABELS, VOCAB_SIZE).cuda()"
      ],
      "execution_count": 0,
      "outputs": []
    },
    {
      "metadata": {
        "id": "VJ9Nf5Z6r3E1",
        "colab_type": "code",
        "colab": {}
      },
      "cell_type": "code",
      "source": [
        "# define a loss function and an optimizer\n",
        "loss_functionTask5A = nn.NLLLoss()\n",
        "optTask5A = torch.optim.SGD(Task_5A.parameters(), lr = 0.003)"
      ],
      "execution_count": 0,
      "outputs": []
    },
    {
      "metadata": {
        "id": "Nu-j3yzbsHhC",
        "colab_type": "code",
        "colab": {
          "base_uri": "https://localhost:8080/",
          "height": 312
        },
        "outputId": "cb197c7f-6df4-4a66-aa43-fa3d1d63d3b5"
      },
      "cell_type": "code",
      "source": [
        "# Task5A\n",
        "# the training loop\n",
        "for epoch in range(6):\n",
        "    print(epoch)\n",
        "    for instance, label in data:\n",
        "        # get the training data\n",
        "        Task_5A.zero_grad()\n",
        "        bow_vec = Variable(make_bow_vector(instance, word_to_ix)).cuda()\n",
        "        label = Variable(make_target(label))\n",
        "        probs = Task_5A(bow_vec) # forward pass\n",
        "        loss = loss_functionTask5A(probs, label)\n",
        "        loss.backward()\n",
        "        optTask5A.step()\n",
        "    print('CURRENT LOSS: {}'.format(loss.data))\n",
        "    \n",
        "from sklearn.metrics import precision_score\n",
        "from sklearn.metrics import recall_score\n",
        "from sklearn.metrics import f1_score\n",
        "from sklearn.metrics import accuracy_score\n",
        "\n",
        "print('--- AFTER TRAINING ---')\n",
        "predictions = list()\n",
        "for instance, label in test_data:\n",
        "    bow_vec = Variable(make_bow_vector(instance, word_to_ix))\n",
        "    logprobs = Task_5A(bow_vec.cuda())\n",
        "    pred = np.argmax(logprobs.data.cpu().numpy())\n",
        "    predictions.append(pred)\n",
        "    \n",
        "print('Precision: {}'.format(precision_score(test_labels,predictions)))\n",
        "print('Recall: {}'.format(recall_score(test_labels,predictions)))\n",
        "print('f1-score: {}'.format(f1_score(test_labels,predictions)))\n",
        "print('Accuracy: {}'.format(accuracy_score(test_labels,predictions)))\n"
      ],
      "execution_count": 69,
      "outputs": [
        {
          "output_type": "stream",
          "text": [
            "0\n",
            "CURRENT LOSS: -0.9915962815284729\n",
            "1\n",
            "CURRENT LOSS: -0.9999995231628418\n",
            "2\n",
            "CURRENT LOSS: -1.0\n",
            "3\n",
            "CURRENT LOSS: -1.0\n",
            "4\n",
            "CURRENT LOSS: -1.0\n",
            "5\n",
            "CURRENT LOSS: -0.9998390674591064\n",
            "--- AFTER TRAINING ---\n",
            "Precision: 0.8296827794561934\n",
            "Recall: 0.8725178713264495\n",
            "f1-score: 0.8505613627564848\n",
            "Accuracy: 0.8456\n"
          ],
          "name": "stdout"
        }
      ]
    },
    {
      "metadata": {
        "id": "-PSgm4Vhs8Z9",
        "colab_type": "code",
        "colab": {
          "base_uri": "https://localhost:8080/",
          "height": 72
        },
        "outputId": "21464a54-fb65-4067-b7ed-d8b3183b0452"
      },
      "cell_type": "code",
      "source": [
        "torch.save(Task_5A,\"Task5A.mdl\")\n",
        "from google.colab import files\n",
        "files.download(\"Task5A.mdl\")"
      ],
      "execution_count": 71,
      "outputs": [
        {
          "output_type": "stream",
          "text": [
            "/usr/local/lib/python3.6/dist-packages/torch/serialization.py:251: UserWarning: Couldn't retrieve source code for container of type Task5A. It won't be checked for correctness upon loading.\n",
            "  \"type \" + obj.__name__ + \". It won't be checked \"\n"
          ],
          "name": "stderr"
        }
      ]
    },
    {
      "metadata": {
        "id": "RkWWwMyToy3N",
        "colab_type": "text"
      },
      "cell_type": "markdown",
      "source": [
        "#TASK5B"
      ]
    },
    {
      "metadata": {
        "id": "Leo_ex_mkRxc",
        "colab_type": "code",
        "colab": {}
      },
      "cell_type": "code",
      "source": [
        "class Task5B(nn.Module):\n",
        "  def __init__(self, num_labels, vocab_size):\n",
        "    super(Task5B, self).__init__()\n",
        "    self.lin = nn.Linear(vocab_size, 30)\n",
        "    self.lin1 = nn.Linear(30, 20)\n",
        "    self.lin2 = nn.Linear(20, 10)\n",
        "    self.lin3 = nn.Linear(10, num_labels)\n",
        "    \n",
        "    self.droplayer = nn.Dropout(p=0.3)\n",
        "    \n",
        "    \n",
        "  def forward(self, x):\n",
        "    x=torch.tanh(self.lin(x))\n",
        "    x=self.droplayer(x)\n",
        "    x=torch.tanh(self.lin1(x))\n",
        "    x=self.droplayer(x)\n",
        "    x=torch.tanh(self.lin2(x))\n",
        "    x=self.droplayer(x)\n",
        "    x=F.softmax(self.lin3(x),dim=1)\n",
        "    return x\n"
      ],
      "execution_count": 0,
      "outputs": []
    },
    {
      "metadata": {
        "id": "rXU5tphorjOj",
        "colab_type": "code",
        "colab": {}
      },
      "cell_type": "code",
      "source": [
        "Task_5B = Task5B(NUM_LABELS, VOCAB_SIZE).cuda()"
      ],
      "execution_count": 0,
      "outputs": []
    },
    {
      "metadata": {
        "id": "nc3cDPvJ0-j2",
        "colab_type": "code",
        "colab": {}
      },
      "cell_type": "code",
      "source": [
        "# define a loss function and an optimizer\n",
        "loss_functionTask5B = nn.NLLLoss()\n",
        "optTask5B = torch.optim.SGD(Task_5B.parameters(), lr = 0.004)"
      ],
      "execution_count": 0,
      "outputs": []
    },
    {
      "metadata": {
        "id": "zZGy6cWK0-1h",
        "colab_type": "code",
        "colab": {
          "base_uri": "https://localhost:8080/",
          "height": 278
        },
        "outputId": "03b7a4c6-4345-4691-9bbe-1ede22cf78c0"
      },
      "cell_type": "code",
      "source": [
        "# Task5B\n",
        "# the training loop\n",
        "for epoch in range(5):\n",
        "    print(epoch)\n",
        "    for instance, label in data:\n",
        "        # get the training data\n",
        "        Task_5B.zero_grad()\n",
        "        bow_vec = Variable(make_bow_vector(instance, word_to_ix)).cuda()\n",
        "        label = Variable(make_target(label))\n",
        "        probs = Task_5B(bow_vec) # forward pass\n",
        "        loss = loss_functionTask5B(probs, label)\n",
        "        loss.backward()\n",
        "        optTask5B.step()\n",
        "    print('CURRENT LOSS: {}'.format(loss.data))\n",
        "    \n",
        "from sklearn.metrics import precision_score\n",
        "from sklearn.metrics import recall_score\n",
        "from sklearn.metrics import f1_score\n",
        "from sklearn.metrics import accuracy_score\n",
        "\n",
        "print('--- AFTER TRAINING ---')\n",
        "predictions = list()\n",
        "for instance, label in test_data:\n",
        "    bow_vec = Variable(make_bow_vector(instance, word_to_ix))\n",
        "    logprobs = Task_5B(bow_vec.cuda())\n",
        "    pred = np.argmax(logprobs.data.cpu().numpy())\n",
        "    predictions.append(pred)\n",
        "    \n",
        "print('Precision: {}'.format(precision_score(test_labels,predictions)))\n",
        "print('Recall: {}'.format(recall_score(test_labels,predictions)))\n",
        "print('f1-score: {}'.format(f1_score(test_labels,predictions)))\n",
        "print('Accuracy: {}'.format(accuracy_score(test_labels,predictions)))"
      ],
      "execution_count": 81,
      "outputs": [
        {
          "output_type": "stream",
          "text": [
            "0\n",
            "CURRENT LOSS: -0.999196469783783\n",
            "1\n",
            "CURRENT LOSS: -0.9999500513076782\n",
            "2\n",
            "CURRENT LOSS: -0.9999939203262329\n",
            "3\n",
            "CURRENT LOSS: -0.9999774694442749\n",
            "4\n",
            "CURRENT LOSS: -1.0\n",
            "--- AFTER TRAINING ---\n",
            "Precision: 0.8876843018213356\n",
            "Recall: 0.812946783161239\n",
            "f1-score: 0.8486733001658374\n",
            "Accuracy: 0.854\n"
          ],
          "name": "stdout"
        }
      ]
    },
    {
      "metadata": {
        "id": "QHAyQt5t1yWR",
        "colab_type": "code",
        "colab": {
          "base_uri": "https://localhost:8080/",
          "height": 72
        },
        "outputId": "f2c7d3a4-7883-4271-f89a-156c5646d24a"
      },
      "cell_type": "code",
      "source": [
        "torch.save(Task_5B,\"Task5B.mdl\")\n",
        "from google.colab import files\n",
        "files.download(\"Task5B.mdl\")"
      ],
      "execution_count": 82,
      "outputs": [
        {
          "output_type": "stream",
          "text": [
            "/usr/local/lib/python3.6/dist-packages/torch/serialization.py:251: UserWarning: Couldn't retrieve source code for container of type Task5B. It won't be checked for correctness upon loading.\n",
            "  \"type \" + obj.__name__ + \". It won't be checked \"\n"
          ],
          "name": "stderr"
        }
      ]
    },
    {
      "metadata": {
        "id": "T2hUYawoo2g7",
        "colab_type": "text"
      },
      "cell_type": "markdown",
      "source": [
        "#TASK5C"
      ]
    },
    {
      "metadata": {
        "id": "UiMzjksxkSAA",
        "colab_type": "code",
        "colab": {}
      },
      "cell_type": "code",
      "source": [
        "class Task5C(nn.Module):\n",
        "  def __init__(self, num_labels, vocab_size):\n",
        "    super(Task5C, self).__init__()\n",
        "    self.lin = nn.Linear(vocab_size, 30)\n",
        "    self.lin1 = nn.Linear(30, 20)\n",
        "    self.lin2 = nn.Linear(20, 10)\n",
        "    self.lin3 = nn.Linear(10, num_labels)\n",
        "    \n",
        "    self.droplayer = nn.Dropout(p=0.2)\n",
        "    \n",
        "    \n",
        "  def forward(self, x):\n",
        "    x=torch.sigmoid(self.lin(x))\n",
        "    x=self.droplayer(x)\n",
        "    x=torch.sigmoid(self.lin1(x))\n",
        "    x=self.droplayer(x)\n",
        "    x=torch.sigmoid(self.lin2(x))\n",
        "    x=self.droplayer(x)\n",
        "    x=F.softmax(self.lin3(x),dim=1)\n",
        "    return x"
      ],
      "execution_count": 0,
      "outputs": []
    },
    {
      "metadata": {
        "id": "tUToTiRCrn8q",
        "colab_type": "code",
        "colab": {}
      },
      "cell_type": "code",
      "source": [
        "Task_5C = Task5C(NUM_LABELS, VOCAB_SIZE).cuda()"
      ],
      "execution_count": 0,
      "outputs": []
    },
    {
      "metadata": {
        "id": "sDXzfM-IkSND",
        "colab_type": "code",
        "colab": {}
      },
      "cell_type": "code",
      "source": [
        "# define a loss function and an optimizer\n",
        "loss_functionTask5C = nn.NLLLoss()\n",
        "optTask5C = torch.optim.SGD(Task_5C.parameters(), lr = 0.0005)"
      ],
      "execution_count": 0,
      "outputs": []
    },
    {
      "metadata": {
        "id": "m2lCp25Fr1Sz",
        "colab_type": "code",
        "colab": {
          "base_uri": "https://localhost:8080/",
          "height": 312
        },
        "outputId": "ce4427c9-9bd9-443d-cb1a-aeb12f7a5ffc"
      },
      "cell_type": "code",
      "source": [
        "# Task5C\n",
        "# the training loop\n",
        "for epoch in range(6):\n",
        "    print(epoch)\n",
        "    for instance, label in data:\n",
        "        # get the training data\n",
        "        Task_5C.zero_grad()\n",
        "        bow_vec = Variable(make_bow_vector(instance, word_to_ix)).cuda()\n",
        "        label = Variable(make_target(label))\n",
        "        probs = Task_5C(bow_vec) # forward pass\n",
        "        loss = loss_functionTask5C(probs, label)\n",
        "        loss.backward()\n",
        "        optTask5C.step()\n",
        "    print('CURRENT LOSS: {}'.format(loss.data))\n",
        "    \n",
        "from sklearn.metrics import precision_score\n",
        "from sklearn.metrics import recall_score\n",
        "from sklearn.metrics import f1_score\n",
        "from sklearn.metrics import accuracy_score\n",
        "\n",
        "print('--- AFTER TRAINING ---')\n",
        "predictions = list()\n",
        "for instance, label in test_data:\n",
        "    bow_vec = Variable(make_bow_vector(instance, word_to_ix))\n",
        "    logprobs = Task_5C(bow_vec.cuda())\n",
        "    pred = np.argmax(logprobs.data.cpu().numpy())\n",
        "    predictions.append(pred)\n",
        "    \n",
        "print('Precision: {}'.format(precision_score(test_labels,predictions)))\n",
        "print('Recall: {}'.format(recall_score(test_labels,predictions)))\n",
        "print('f1-score: {}'.format(f1_score(test_labels,predictions)))\n",
        "print('Accuracy: {}'.format(accuracy_score(test_labels,predictions)))"
      ],
      "execution_count": 102,
      "outputs": [
        {
          "output_type": "stream",
          "text": [
            "0\n",
            "CURRENT LOSS: -0.434597909450531\n",
            "1\n",
            "CURRENT LOSS: -0.5622624158859253\n",
            "2\n",
            "CURRENT LOSS: -0.4247850179672241\n",
            "3\n",
            "CURRENT LOSS: -0.4831489622592926\n",
            "4\n",
            "CURRENT LOSS: -0.4363243877887726\n",
            "5\n",
            "CURRENT LOSS: -0.43503278493881226\n",
            "--- AFTER TRAINING ---\n",
            "Precision: 0.5025114653854553\n",
            "Recall: 0.9138204924543288\n",
            "f1-score: 0.6484430040862336\n",
            "Accuracy: 0.501\n"
          ],
          "name": "stdout"
        }
      ]
    },
    {
      "metadata": {
        "id": "JNRjk-1nkSb3",
        "colab_type": "code",
        "colab": {
          "base_uri": "https://localhost:8080/",
          "height": 72
        },
        "outputId": "77e824fd-181b-49a7-c5a4-841f5dfc655e"
      },
      "cell_type": "code",
      "source": [
        "torch.save(Task_5C,\"Task5C.mdl\")\n",
        "from google.colab import files\n",
        "files.download(\"Task5C.mdl\")"
      ],
      "execution_count": 104,
      "outputs": [
        {
          "output_type": "stream",
          "text": [
            "/usr/local/lib/python3.6/dist-packages/torch/serialization.py:251: UserWarning: Couldn't retrieve source code for container of type Task5C. It won't be checked for correctness upon loading.\n",
            "  \"type \" + obj.__name__ + \". It won't be checked \"\n"
          ],
          "name": "stderr"
        }
      ]
    },
    {
      "metadata": {
        "id": "7F1gFDZOJV3N",
        "colab_type": "text"
      },
      "cell_type": "markdown",
      "source": [
        "##Generate the BOW Vectors"
      ]
    },
    {
      "metadata": {
        "id": "iQnu0lLNa8h5",
        "colab_type": "code",
        "colab": {}
      },
      "cell_type": "code",
      "source": [
        "# define a loss function and an optimizer\n",
        "loss_function = nn.NLLLoss()\n",
        "opt = torch.optim.SGD(bow.parameters(), lr = 0.025)"
      ],
      "execution_count": 0,
      "outputs": []
    }
  ]
}